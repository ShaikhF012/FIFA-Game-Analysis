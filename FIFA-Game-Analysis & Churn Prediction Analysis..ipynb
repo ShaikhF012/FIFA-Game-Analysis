{
 "cells": [
  {
   "cell_type": "code",
   "execution_count": 1,
   "id": "c356d31c",
   "metadata": {},
   "outputs": [],
   "source": [
    "# import 'pandas' \n",
    "import pandas as pd \n",
    "\n",
    "# import 'numpy' \n",
    "import numpy as np\n",
    "\n",
    "# import subpackage of matplotlib\n",
    "import matplotlib.pyplot as plt\n",
    "\n",
    "# import 'seaborn'\n",
    "import seaborn as sns\n",
    "\n",
    "# to suppress warnings \n",
    "from warnings import filterwarnings\n",
    "filterwarnings('ignore')\n",
    "\n",
    "# import 'random' to generate random sample\n",
    "import random\n",
    "\n",
    "# import statistics to perform statistical computation  \n",
    "import statistics\n",
    "\n",
    "# import 'stats' package from scipy library\n",
    "from scipy import stats\n",
    "\n",
    "# import a library to perform Z-test\n",
    "from statsmodels.stats import weightstats as stests\n",
    "\n",
    "# to test the normality \n",
    "from scipy.stats import shapiro\n",
    "\n",
    "# import the function to calculate the power of test\n",
    "from statsmodels.stats import power\n",
    "from scipy.stats import shapiro\n",
    "\n",
    "# import a library to perform Z-test\n",
    "from statsmodels.stats import weightstats as stests\n",
    "\n",
    "# import statsmodels\n",
    "import statsmodels.api as sm\n",
    "from statsmodels.formula.api import ols\n",
    "from statsmodels.stats.anova import anova_lm\n",
    "\n",
    "# import the functions to perform Chi-square tests\n",
    "from scipy.stats import chi2_contingency\n",
    "from scipy.stats import chi2\n",
    "from scipy.stats import chisquare\n",
    "\n",
    "# function to perform post-hoc test\n",
    "import statsmodels.stats.multicomp as mc\n",
    "\n"
   ]
  },
  {
   "cell_type": "code",
   "execution_count": 2,
   "id": "4f4958ff",
   "metadata": {},
   "outputs": [
    {
     "data": {
      "text/html": [
       "<div>\n",
       "<style scoped>\n",
       "    .dataframe tbody tr th:only-of-type {\n",
       "        vertical-align: middle;\n",
       "    }\n",
       "\n",
       "    .dataframe tbody tr th {\n",
       "        vertical-align: top;\n",
       "    }\n",
       "\n",
       "    .dataframe thead th {\n",
       "        text-align: right;\n",
       "    }\n",
       "</style>\n",
       "<table border=\"1\" class=\"dataframe\">\n",
       "  <thead>\n",
       "    <tr style=\"text-align: right;\">\n",
       "      <th></th>\n",
       "      <th>Name</th>\n",
       "      <th>Age</th>\n",
       "      <th>Nationality</th>\n",
       "      <th>Overall_rating</th>\n",
       "      <th>Potential</th>\n",
       "      <th>Club</th>\n",
       "      <th>Preferred Foot</th>\n",
       "      <th>International Reputation</th>\n",
       "      <th>Weak Foot</th>\n",
       "      <th>Skill Moves</th>\n",
       "      <th>Work Rate</th>\n",
       "      <th>Position</th>\n",
       "      <th>Jersey Number</th>\n",
       "      <th>Height</th>\n",
       "      <th>Weight</th>\n",
       "    </tr>\n",
       "  </thead>\n",
       "  <tbody>\n",
       "    <tr>\n",
       "      <th>0</th>\n",
       "      <td>L. Messi</td>\n",
       "      <td>31</td>\n",
       "      <td>Argentina</td>\n",
       "      <td>94</td>\n",
       "      <td>94</td>\n",
       "      <td>FC Barcelona</td>\n",
       "      <td>Left</td>\n",
       "      <td>5</td>\n",
       "      <td>4</td>\n",
       "      <td>4</td>\n",
       "      <td>Medium/ Medium</td>\n",
       "      <td>RF</td>\n",
       "      <td>10</td>\n",
       "      <td>5.583333</td>\n",
       "      <td>159</td>\n",
       "    </tr>\n",
       "    <tr>\n",
       "      <th>1</th>\n",
       "      <td>Cristiano Ronaldo</td>\n",
       "      <td>33</td>\n",
       "      <td>Portugal</td>\n",
       "      <td>94</td>\n",
       "      <td>94</td>\n",
       "      <td>Juventus</td>\n",
       "      <td>Right</td>\n",
       "      <td>5</td>\n",
       "      <td>4</td>\n",
       "      <td>5</td>\n",
       "      <td>High/ Low</td>\n",
       "      <td>ST</td>\n",
       "      <td>7</td>\n",
       "      <td>6.166667</td>\n",
       "      <td>183</td>\n",
       "    </tr>\n",
       "    <tr>\n",
       "      <th>2</th>\n",
       "      <td>Neymar Jr</td>\n",
       "      <td>26</td>\n",
       "      <td>Brazil</td>\n",
       "      <td>92</td>\n",
       "      <td>93</td>\n",
       "      <td>Paris Saint-Germain</td>\n",
       "      <td>Right</td>\n",
       "      <td>5</td>\n",
       "      <td>5</td>\n",
       "      <td>5</td>\n",
       "      <td>High/ Medium</td>\n",
       "      <td>LW</td>\n",
       "      <td>10</td>\n",
       "      <td>5.750000</td>\n",
       "      <td>150</td>\n",
       "    </tr>\n",
       "    <tr>\n",
       "      <th>3</th>\n",
       "      <td>De Gea</td>\n",
       "      <td>27</td>\n",
       "      <td>Spain</td>\n",
       "      <td>91</td>\n",
       "      <td>93</td>\n",
       "      <td>Manchester United</td>\n",
       "      <td>Right</td>\n",
       "      <td>4</td>\n",
       "      <td>3</td>\n",
       "      <td>1</td>\n",
       "      <td>Medium/ Medium</td>\n",
       "      <td>GK</td>\n",
       "      <td>1</td>\n",
       "      <td>6.333333</td>\n",
       "      <td>168</td>\n",
       "    </tr>\n",
       "    <tr>\n",
       "      <th>4</th>\n",
       "      <td>K. De Bruyne</td>\n",
       "      <td>27</td>\n",
       "      <td>Belgium</td>\n",
       "      <td>91</td>\n",
       "      <td>92</td>\n",
       "      <td>Manchester City</td>\n",
       "      <td>Right</td>\n",
       "      <td>4</td>\n",
       "      <td>5</td>\n",
       "      <td>4</td>\n",
       "      <td>High/ High</td>\n",
       "      <td>RCM</td>\n",
       "      <td>7</td>\n",
       "      <td>5.083333</td>\n",
       "      <td>154</td>\n",
       "    </tr>\n",
       "  </tbody>\n",
       "</table>\n",
       "</div>"
      ],
      "text/plain": [
       "                Name  Age Nationality  Overall_rating  Potential  \\\n",
       "0           L. Messi   31   Argentina              94         94   \n",
       "1  Cristiano Ronaldo   33    Portugal              94         94   \n",
       "2          Neymar Jr   26      Brazil              92         93   \n",
       "3             De Gea   27       Spain              91         93   \n",
       "4       K. De Bruyne   27     Belgium              91         92   \n",
       "\n",
       "                  Club Preferred Foot  International Reputation  Weak Foot  \\\n",
       "0         FC Barcelona           Left                         5          4   \n",
       "1             Juventus          Right                         5          4   \n",
       "2  Paris Saint-Germain          Right                         5          5   \n",
       "3    Manchester United          Right                         4          3   \n",
       "4      Manchester City          Right                         4          5   \n",
       "\n",
       "   Skill Moves       Work Rate Position  Jersey Number    Height  Weight  \n",
       "0            4  Medium/ Medium       RF             10  5.583333     159  \n",
       "1            5       High/ Low       ST              7  6.166667     183  \n",
       "2            5    High/ Medium       LW             10  5.750000     150  \n",
       "3            1  Medium/ Medium       GK              1  6.333333     168  \n",
       "4            4      High/ High      RCM              7  5.083333     154  "
      ]
     },
     "execution_count": 2,
     "metadata": {},
     "output_type": "execute_result"
    }
   ],
   "source": [
    "df_fifa = pd.read_csv('fifa_stats.csv')\n",
    "df_fifa.head()"
   ]
  },
  {
   "cell_type": "code",
   "execution_count": 3,
   "id": "01e8911b",
   "metadata": {},
   "outputs": [
    {
     "data": {
      "text/plain": [
       "(2000, 15)"
      ]
     },
     "execution_count": 3,
     "metadata": {},
     "output_type": "execute_result"
    }
   ],
   "source": [
    "df_fifa.shape"
   ]
  },
  {
   "cell_type": "code",
   "execution_count": 4,
   "id": "144a94f1",
   "metadata": {},
   "outputs": [
    {
     "data": {
      "text/plain": [
       "Name                         object\n",
       "Age                           int64\n",
       "Nationality                  object\n",
       "Overall_rating                int64\n",
       "Potential                     int64\n",
       "Club                         object\n",
       "Preferred Foot               object\n",
       "International Reputation      int64\n",
       "Weak Foot                     int64\n",
       "Skill Moves                   int64\n",
       "Work Rate                    object\n",
       "Position                     object\n",
       "Jersey Number                 int64\n",
       "Height                      float64\n",
       "Weight                        int64\n",
       "dtype: object"
      ]
     },
     "execution_count": 4,
     "metadata": {},
     "output_type": "execute_result"
    }
   ],
   "source": [
    "df_fifa.dtypes"
   ]
  },
  {
   "cell_type": "code",
   "execution_count": 5,
   "id": "19342f06",
   "metadata": {},
   "outputs": [
    {
     "data": {
      "text/html": [
       "<div>\n",
       "<style scoped>\n",
       "    .dataframe tbody tr th:only-of-type {\n",
       "        vertical-align: middle;\n",
       "    }\n",
       "\n",
       "    .dataframe tbody tr th {\n",
       "        vertical-align: top;\n",
       "    }\n",
       "\n",
       "    .dataframe thead th {\n",
       "        text-align: right;\n",
       "    }\n",
       "</style>\n",
       "<table border=\"1\" class=\"dataframe\">\n",
       "  <thead>\n",
       "    <tr style=\"text-align: right;\">\n",
       "      <th></th>\n",
       "      <th>Age</th>\n",
       "      <th>Overall_rating</th>\n",
       "      <th>Potential</th>\n",
       "      <th>International Reputation</th>\n",
       "      <th>Weak Foot</th>\n",
       "      <th>Skill Moves</th>\n",
       "      <th>Jersey Number</th>\n",
       "      <th>Height</th>\n",
       "      <th>Weight</th>\n",
       "    </tr>\n",
       "  </thead>\n",
       "  <tbody>\n",
       "    <tr>\n",
       "      <th>0</th>\n",
       "      <td>31</td>\n",
       "      <td>94</td>\n",
       "      <td>94</td>\n",
       "      <td>5</td>\n",
       "      <td>4</td>\n",
       "      <td>4</td>\n",
       "      <td>10</td>\n",
       "      <td>5.583333</td>\n",
       "      <td>159</td>\n",
       "    </tr>\n",
       "    <tr>\n",
       "      <th>1</th>\n",
       "      <td>33</td>\n",
       "      <td>94</td>\n",
       "      <td>94</td>\n",
       "      <td>5</td>\n",
       "      <td>4</td>\n",
       "      <td>5</td>\n",
       "      <td>7</td>\n",
       "      <td>6.166667</td>\n",
       "      <td>183</td>\n",
       "    </tr>\n",
       "    <tr>\n",
       "      <th>2</th>\n",
       "      <td>26</td>\n",
       "      <td>92</td>\n",
       "      <td>93</td>\n",
       "      <td>5</td>\n",
       "      <td>5</td>\n",
       "      <td>5</td>\n",
       "      <td>10</td>\n",
       "      <td>5.750000</td>\n",
       "      <td>150</td>\n",
       "    </tr>\n",
       "  </tbody>\n",
       "</table>\n",
       "</div>"
      ],
      "text/plain": [
       "   Age  Overall_rating  Potential  International Reputation  Weak Foot  \\\n",
       "0   31              94         94                         5          4   \n",
       "1   33              94         94                         5          4   \n",
       "2   26              92         93                         5          5   \n",
       "\n",
       "   Skill Moves  Jersey Number    Height  Weight  \n",
       "0            4             10  5.583333     159  \n",
       "1            5              7  6.166667     183  \n",
       "2            5             10  5.750000     150  "
      ]
     },
     "execution_count": 5,
     "metadata": {},
     "output_type": "execute_result"
    }
   ],
   "source": [
    "df_num=df_fifa.select_dtypes(include=np.number)\n",
    "df_num.head(3)"
   ]
  },
  {
   "cell_type": "code",
   "execution_count": null,
   "id": "bc539cf6",
   "metadata": {},
   "outputs": [],
   "source": []
  },
  {
   "cell_type": "code",
   "execution_count": null,
   "id": "afba1144",
   "metadata": {},
   "outputs": [],
   "source": []
  },
  {
   "cell_type": "markdown",
   "id": "17d0ff07",
   "metadata": {},
   "source": [
    "# missing values"
   ]
  },
  {
   "cell_type": "code",
   "execution_count": 6,
   "id": "a8301954",
   "metadata": {},
   "outputs": [
    {
     "data": {
      "text/plain": [
       "Club    19\n",
       "dtype: int64"
      ]
     },
     "execution_count": 6,
     "metadata": {},
     "output_type": "execute_result"
    }
   ],
   "source": [
    "df_fifa.isnull().sum()[df_fifa.isnull().sum()>0]"
   ]
  },
  {
   "cell_type": "code",
   "execution_count": 7,
   "id": "9fa03279",
   "metadata": {},
   "outputs": [
    {
     "data": {
      "image/png": "[encoded data removed]",
      "text/plain": [
       "<Figure size 720x360 with 1 Axes>"
      ]
     },
     "metadata": {
      "needs_background": "light"
     },
     "output_type": "display_data"
    }
   ],
   "source": [
    "plt.rcParams[\"figure.figsize\"]=[10,5]\n",
    "sns.heatmap(df_fifa.isnull(),cbar = False)\n",
    "plt.show()"
   ]
  },
  {
   "cell_type": "code",
   "execution_count": 8,
   "id": "5cdff701",
   "metadata": {},
   "outputs": [
    {
     "data": {
      "text/html": [
       "<div>\n",
       "<style scoped>\n",
       "    .dataframe tbody tr th:only-of-type {\n",
       "        vertical-align: middle;\n",
       "    }\n",
       "\n",
       "    .dataframe tbody tr th {\n",
       "        vertical-align: top;\n",
       "    }\n",
       "\n",
       "    .dataframe thead th {\n",
       "        text-align: right;\n",
       "    }\n",
       "</style>\n",
       "<table border=\"1\" class=\"dataframe\">\n",
       "  <thead>\n",
       "    <tr style=\"text-align: right;\">\n",
       "      <th></th>\n",
       "      <th>Name</th>\n",
       "      <th>Nationality</th>\n",
       "      <th>Club</th>\n",
       "      <th>Preferred Foot</th>\n",
       "      <th>Work Rate</th>\n",
       "      <th>Position</th>\n",
       "    </tr>\n",
       "  </thead>\n",
       "  <tbody>\n",
       "    <tr>\n",
       "      <th>0</th>\n",
       "      <td>L. Messi</td>\n",
       "      <td>Argentina</td>\n",
       "      <td>FC Barcelona</td>\n",
       "      <td>Left</td>\n",
       "      <td>Medium/ Medium</td>\n",
       "      <td>RF</td>\n",
       "    </tr>\n",
       "    <tr>\n",
       "      <th>1</th>\n",
       "      <td>Cristiano Ronaldo</td>\n",
       "      <td>Portugal</td>\n",
       "      <td>Juventus</td>\n",
       "      <td>Right</td>\n",
       "      <td>High/ Low</td>\n",
       "      <td>ST</td>\n",
       "    </tr>\n",
       "    <tr>\n",
       "      <th>2</th>\n",
       "      <td>Neymar Jr</td>\n",
       "      <td>Brazil</td>\n",
       "      <td>Paris Saint-Germain</td>\n",
       "      <td>Right</td>\n",
       "      <td>High/ Medium</td>\n",
       "      <td>LW</td>\n",
       "    </tr>\n",
       "  </tbody>\n",
       "</table>\n",
       "</div>"
      ],
      "text/plain": [
       "                Name Nationality                 Club Preferred Foot  \\\n",
       "0           L. Messi   Argentina         FC Barcelona           Left   \n",
       "1  Cristiano Ronaldo    Portugal             Juventus          Right   \n",
       "2          Neymar Jr      Brazil  Paris Saint-Germain          Right   \n",
       "\n",
       "        Work Rate Position  \n",
       "0  Medium/ Medium       RF  \n",
       "1       High/ Low       ST  \n",
       "2    High/ Medium       LW  "
      ]
     },
     "execution_count": 8,
     "metadata": {},
     "output_type": "execute_result"
    }
   ],
   "source": [
    "df_cat=df_fifa.select_dtypes(include='object')\n",
    "df_cat.head(3)"
   ]
  },
  {
   "cell_type": "code",
   "execution_count": 9,
   "id": "e4a93c08",
   "metadata": {},
   "outputs": [
    {
     "name": "stdout",
     "output_type": "stream",
     "text": [
      "['L. Messi' 'Cristiano Ronaldo' 'Neymar Jr' ... 'A. Elis' 'M. FernÃ¡ndez'\n",
      " 'D. RodrÃ\\xadguez']\n",
      "0 \n",
      "\n",
      "Danilo           3\n",
      "Marcelo          3\n",
      "Paulinho         3\n",
      "J. Cuadrado      2\n",
      "OtÃ¡vio          2\n",
      "                ..\n",
      "Escudero         1\n",
      "C. Tosun         1\n",
      "Jaume Costa      1\n",
      "G. Pezzella      1\n",
      "D. RodrÃ­guez    1\n",
      "Name: Name, Length: 1970, dtype: int64\n"
     ]
    }
   ],
   "source": [
    "print(df_cat['Name'].unique())\n",
    "print(df_fifa.Name.isnull().sum(),'\\n')\n",
    "print(df_cat['Name'].value_counts())"
   ]
  },
  {
   "cell_type": "code",
   "execution_count": 10,
   "id": "cd7950d7",
   "metadata": {},
   "outputs": [
    {
     "name": "stdout",
     "output_type": "stream",
     "text": [
      "0 \n",
      "\n",
      "Spain                251\n",
      "Brazil               198\n",
      "France               161\n",
      "Argentina            143\n",
      "Germany              126\n",
      "                    ... \n",
      "Equatorial Guinea      1\n",
      "Estonia                1\n",
      "Angola                 1\n",
      "Syria                  1\n",
      "Honduras               1\n",
      "Name: Nationality, Length: 95, dtype: int64\n",
      "['Argentina' 'Portugal' 'Brazil' 'Spain' 'Belgium' 'Croatia' 'Uruguay'\n",
      " 'Slovenia' 'Poland' 'Germany' 'France' 'England' 'Italy' 'Egypt'\n",
      " 'Colombia' 'Denmark' 'Gabon' 'Wales' 'Senegal' 'Costa Rica' 'Slovakia'\n",
      " 'Netherlands' 'Bosnia Herzegovina' 'Morocco' 'Serbia' 'Algeria' 'Austria'\n",
      " 'Greece' 'Chile' 'Sweden' 'Korea Republic' 'Finland' 'Guinea'\n",
      " 'Montenegro' 'Armenia' 'Switzerland' 'Norway' 'Czech Republic' 'Scotland'\n",
      " 'Ghana' 'Central African Rep.' 'DR Congo' 'Ivory Coast' 'Russia'\n",
      " 'Ukraine' 'Iceland' 'Mexico' 'Jamaica' 'Albania' 'Venezuela' 'Japan'\n",
      " 'Turkey' 'Ecuador' 'Paraguay' 'Mali' 'Nigeria' 'Cameroon'\n",
      " 'Dominican Republic' 'Israel' 'Kenya' 'Hungary' 'Republic of Ireland'\n",
      " 'Romania' 'United States' 'Cape Verde' 'Australia' 'Peru' 'Togo' 'Syria'\n",
      " 'Zimbabwe' 'Angola' 'Burkina Faso' 'Iran' 'Estonia' 'Tunisia'\n",
      " 'Equatorial Guinea' 'New Zealand' 'FYR Macedonia' 'United Arab Emirates'\n",
      " 'China PR' 'Guinea Bissau' 'Bulgaria' 'Kosovo' 'South Africa'\n",
      " 'Madagascar' 'Georgia' 'Tanzania' 'Gambia' 'Cuba' 'Belarus' 'Uzbekistan'\n",
      " 'Benin' 'Congo' 'Mozambique' 'Honduras']\n"
     ]
    }
   ],
   "source": [
    "print(df_fifa['Nationality'].isnull().sum(),'\\n')\n",
    "print(df_fifa['Nationality'].value_counts())\n",
    "print(df_fifa['Nationality'].unique())"
   ]
  },
  {
   "cell_type": "code",
   "execution_count": 11,
   "id": "58e49bfc",
   "metadata": {},
   "outputs": [
    {
     "name": "stdout",
     "output_type": "stream",
     "text": [
      "19 \n",
      "\n",
      "Chelsea                    24\n",
      "Liverpool                  23\n",
      "Manchester United          23\n",
      "Borussia Dortmund          23\n",
      "Napoli                     23\n",
      "                           ..\n",
      "Real Sporting de GijÃ³n     1\n",
      "SV Zulte-Waregem            1\n",
      "Real Oviedo                 1\n",
      "Boavista FC                 1\n",
      "Club Necaxa                 1\n",
      "Name: Club, Length: 285, dtype: int64 \n",
      "\n",
      "['FC Barcelona' 'Juventus' 'Paris Saint-Germain' 'Manchester United'\n",
      " 'Manchester City' 'Chelsea' 'Real Madrid' 'AtlÃ©tico Madrid'\n",
      " 'FC Bayern MÃ¼nchen' 'Tottenham Hotspur' 'Liverpool' 'Napoli' 'Arsenal'\n",
      " 'Milan' 'Inter' 'Lazio' 'Borussia Dortmund' 'Vissel Kobe'\n",
      " 'Olympique Lyonnais' 'Roma' 'Valencia CF'\n",
      " 'Guangzhou Evergrande Taobao FC' 'FC Porto' 'FC Schalke 04'\n",
      " 'BeÅŸiktaÅŸ JK' 'LA Galaxy' 'Sporting CP' 'Real Betis'\n",
      " 'Olympique de Marseille' 'RC Celta' 'Bayer 04 Leverkusen' 'Real Sociedad'\n",
      " 'Villarreal CF' 'Sevilla FC' 'SL Benfica' 'AS Saint-Ã‰tienne' 'AS Monaco'\n",
      " 'Leicester City' 'Atalanta' 'GrÃªmio' 'AtlÃ©tico Mineiro' 'RB Leipzig'\n",
      " 'Ajax' 'Dalian YiFang FC' 'Everton' 'West Ham United' '1. FC KÃ¶ln'\n",
      " 'TSG 1899 Hoffenheim' 'Shanghai SIPG FC' 'OGC Nice' 'Al Nassr'\n",
      " 'Wolverhampton Wanderers' 'Borussia MÃ¶nchengladbach' 'Hertha BSC'\n",
      " 'SV Werder Bremen' 'Cruzeiro' 'Athletic Club de Bilbao' 'Torino'\n",
      " 'Medipol BaÅŸakÅŸehir FK' 'Beijing Sinobo Guoan FC' 'Crystal Palace'\n",
      " 'PFC CSKA Moscow' 'VfL Wolfsburg' 'Shakhtar Donetsk' 'Toronto FC'\n",
      " 'Lokomotiv Moscow' 'Sassuolo' 'New York City FC' 'Fluminense' 'PSV'\n",
      " 'Levante UD' 'Fulham' 'Watford' 'Atlanta United' 'Montpellier HSC'\n",
      " 'Galatasaray SK' 'FenerbahÃ§e SK' 'SD Eibar' 'Los Angeles FC' 'Sampdoria'\n",
      " 'Al Hilal' 'VfB Stuttgart' 'SC Braga' 'River Plate' 'Deportivo AlavÃ©s'\n",
      " nan 'Eintracht Frankfurt' 'Girona FC' 'Guangzhou R&F; FC' 'Burnley'\n",
      " 'Stoke City' 'Southampton' 'Tianjin Quanjian FC' 'Getafe CF'\n",
      " 'Beijing Renhe FC' 'Montreal Impact' 'Chievo Verona' 'Genoa'\n",
      " 'Portland Timbers' 'Tigres U.A.N.L.' 'RCD Espanyol'\n",
      " 'Hebei China Fortune FC' 'Cagliari' 'Chicago Fire' 'DC United'\n",
      " 'Sagan Tosu' 'Dynamo Kyiv' 'Santos' 'Internacional'\n",
      " 'AmÃ©rica FC (Minas Gerais)' 'Independiente' 'Boca Juniors' 'Cruz Azul'\n",
      " '1. FSV Mainz 05' 'Bournemouth' 'Spartak Moscow' 'Racing Club'\n",
      " 'FC Augsburg' 'Fiorentina' 'FC Nantes' 'Feyenoord' 'Club Brugge KV'\n",
      " 'Brighton & Hove Albion' 'Al Ahli' 'Jiangsu Suning FC' 'SC Freiburg'\n",
      " 'PAOK' 'Stade Rennais FC' 'Trabzonspor' 'SPAL' 'Portimonense SC'\n",
      " 'Olympiacos CFP' 'Club AtlÃ©tico HuracÃ¡n' 'KasimpaÅŸa SK'\n",
      " 'Newcastle United' 'Frosinone' 'QuerÃ©taro' 'KRC Genk' 'Hannover 96'\n",
      " 'Stade Malherbe Caen' 'Godoy Cruz' 'Toulouse Football Club'\n",
      " 'RSC Anderlecht' 'Huddersfield Town' 'CD Tondela' 'Seattle Sounders FC'\n",
      " 'Hamburger SV' 'FC Red Bull Salzburg' 'Rio Ave FC'\n",
      " 'FC Girondins de Bordeaux' 'Melbourne Victory' 'Parma' 'FC Basel 1893'\n",
      " 'Al Wehda' 'BSC Young Boys' 'KAA Gent' 'Al Ittihad' 'Standard de LiÃ¨ge'\n",
      " 'Shanghai Greenland Shenhua FC' 'Colo-Colo' 'Junior FC'\n",
      " 'West Bromwich Albion' 'RC Strasbourg Alsace' 'GÃ¶ztepe SK'\n",
      " 'Deportivo Cali' 'Deportivo Toluca' 'Bologna' 'Nagoya Grampus'\n",
      " 'Amiens SC' 'Changchun Yatai FC' 'Club AtlÃ©tico LanÃºs' 'Botafogo'\n",
      " 'Club AmÃ©rica' 'Udinese' 'Real Valladolid CF' 'CD LeganÃ©s'\n",
      " 'Club AtlÃ©tico Banfield' 'Celtic' 'VitÃ³ria GuimarÃ£es' 'FC KÃ¸benhavn'\n",
      " 'UD Las Palmas' 'Deportivo de La CoruÃ±a' 'Universidad CatÃ³lica'\n",
      " 'San Lorenzo de Almagro' 'Rayo Vallecano' 'Monterrey' 'Columbus Crew SC'\n",
      " 'MKE AnkaragÃ¼cÃ¼' 'Guizhou Hengfeng FC' 'Swansea City' 'Tianjin TEDA FC'\n",
      " 'Chongqing Dangdai Lifan FC SWM Team' 'AEK Athens' 'Al Taawoun'\n",
      " 'Melbourne City FC' 'En Avant de Guingamp' 'Akhisar Belediyespor'\n",
      " 'Foggia' 'LOSC Lille' '1. FC NÃ¼rnberg' 'Clube Sport MarÃ\\xadtimo'\n",
      " 'Real Sporting de GijÃ³n' 'BB Erzurumspor' 'Shandong Luneng TaiShan FC'\n",
      " 'Club AtlÃ©tico ColÃ³n' 'Bahia' 'Once Caldas' 'FC Groningen' 'Angers SCO'\n",
      " 'ParanÃ¡' 'Antalyaspor' 'Minnesota United FC' 'Club LeÃ³n' 'Empoli'\n",
      " 'VVV-Venlo' 'Leeds United' 'Viktoria PlzeÅˆ' 'Alanyaspor'\n",
      " 'AtlÃ©tico Paranaense' 'Derby County' 'Kawasaki Frontale' 'Cardiff City'\n",
      " 'Aston Villa' 'Guadalajara' 'Dijon FCO' 'Santos Laguna' 'MÃ¡laga CF'\n",
      " 'VitÃ³ria' 'Ã‡aykur Rizespor' 'U.N.A.M.' 'Nottingham Forest'\n",
      " 'Royal Antwerp FC' 'Club Tijuana' 'Sport Club do Recife' 'Real Salt Lake'\n",
      " 'AZ Alkmaar' 'SK Slavia Praha' 'Willem II' 'Middlesbrough'\n",
      " 'Dinamo Zagreb' 'Club Atlas' 'Granada CF' 'Sydney FC'\n",
      " 'Sporting Kansas City' 'SV Zulte-Waregem' 'Philadelphia Union'\n",
      " 'Real Oviedo' 'Pachuca' 'Boavista FC' 'Atiker Konyaspor' 'Kaizer Chiefs'\n",
      " 'GD Chaves' 'Palermo' 'AtlÃ©tico Nacional' 'Puebla FC' 'Perth Glory'\n",
      " 'Panathinaikos FC' 'FC Sion' 'VitÃ³ria de SetÃºbal' 'New York Red Bulls'\n",
      " 'Al Shabab' 'Monarcas Morelia' 'Albacete BP' 'Rangers FC' 'Sparta Praha'\n",
      " 'Legia Warszawa' 'Urawa Red Diamonds' 'Rosario Central' 'Stade de Reims'\n",
      " 'ADO Den Haag' 'Chapecoense' 'FC Midtjylland' 'San Jose Earthquakes'\n",
      " 'Belgrano de CÃ³rdoba' 'Brescia' 'Kashima Antlers'\n",
      " 'CD Everton de ViÃ±a del Mar' 'Fortuna DÃ¼sseldorf' 'SD Huesca'\n",
      " 'Preston North End' 'Club AtlÃ©tico Talleres' 'Benevento' 'Vitesse'\n",
      " 'Gimnasia y Esgrima La Plata' 'Houston Dynamo' 'Club Necaxa'] \n",
      "\n",
      "0    Chelsea\n",
      "dtype: object\n",
      "None\n",
      "0 \n",
      "\n"
     ]
    }
   ],
   "source": [
    "print(df_fifa['Club'].isnull().sum(),'\\n')\n",
    "print(df_cat['Club'].value_counts(),'\\n')\n",
    "print(df_cat['Club'].unique(),'\\n')\n",
    "print(df_fifa['Club'].mode())\n",
    "print(df_fifa.Club.replace(np.NaN,\"Chelsea \" ,inplace = True))\n",
    "print(df_fifa['Club'].isnull().sum(),'\\n')"
   ]
  },
  {
   "cell_type": "code",
   "execution_count": 14,
   "id": "0f145e3c",
   "metadata": {},
   "outputs": [
    {
     "name": "stdout",
     "output_type": "stream",
     "text": [
      "0 \n",
      "\n",
      "Right    1534\n",
      "Left      466\n",
      "Name: Preferred Foot, dtype: int64\n",
      "['Left' 'Right']\n"
     ]
    }
   ],
   "source": [
    "print(df_fifa['Preferred Foot'].isnull().sum(),'\\n')\n",
    "print(df_cat['Preferred Foot'].value_counts())\n",
    "print(df_cat['Preferred Foot'].unique())\n"
   ]
  },
  {
   "cell_type": "code",
   "execution_count": 15,
   "id": "37d70a70",
   "metadata": {},
   "outputs": [
    {
     "name": "stdout",
     "output_type": "stream",
     "text": [
      "0 \n",
      "\n",
      "Medium/ Medium    733\n",
      "High/ Medium      514\n",
      "Medium/ High      264\n",
      "High/ High        245\n",
      "Medium/ Low        94\n",
      "High/ Low          88\n",
      "Low/ High          38\n",
      "Low/ Medium        24\n",
      "Name: Work Rate, dtype: int64\n"
     ]
    },
    {
     "data": {
      "text/plain": [
       "array(['Medium/ Medium', 'High/ Low', 'High/ Medium', 'High/ High',\n",
       "       'Medium/ High', 'Medium/ Low', 'Low/ High', 'Low/ Medium'],\n",
       "      dtype=object)"
      ]
     },
     "execution_count": 15,
     "metadata": {},
     "output_type": "execute_result"
    }
   ],
   "source": [
    "print(df_fifa['Work Rate'].isnull().sum(),'\\n')\n",
    "print(df_cat['Work Rate'].value_counts())\n",
    "df_cat['Work Rate'].unique()"
   ]
  },
  {
   "cell_type": "code",
   "execution_count": 16,
   "id": "cc14a42a",
   "metadata": {},
   "outputs": [
    {
     "name": "stdout",
     "output_type": "stream",
     "text": [
      "0 \n",
      "\n"
     ]
    },
    {
     "data": {
      "text/plain": [
       "GK     194\n",
       "ST     187\n",
       "RM     133\n",
       "CB     130\n",
       "CAM    126\n",
       "LM     120\n",
       "CM     119\n",
       "LB     110\n",
       "LCB    107\n",
       "RB     105\n",
       "RCB    103\n",
       "CDM     98\n",
       "RCM     77\n",
       "LCM     77\n",
       "LS      50\n",
       "RDM     49\n",
       "RW      45\n",
       "LW      43\n",
       "RS      40\n",
       "LDM     33\n",
       "LWB     15\n",
       "CF      11\n",
       "RWB     11\n",
       "LF       6\n",
       "RF       5\n",
       "LAM      3\n",
       "RAM      3\n",
       "Name: Position, dtype: int64"
      ]
     },
     "execution_count": 16,
     "metadata": {},
     "output_type": "execute_result"
    }
   ],
   "source": [
    "print(df_fifa['Position'].isnull().sum(),'\\n')\n",
    "df_cat['Position'].value_counts()"
   ]
  },
  {
   "cell_type": "code",
   "execution_count": 17,
   "id": "10379529",
   "metadata": {},
   "outputs": [
    {
     "data": {
      "text/html": [
       "<div>\n",
       "<style scoped>\n",
       "    .dataframe tbody tr th:only-of-type {\n",
       "        vertical-align: middle;\n",
       "    }\n",
       "\n",
       "    .dataframe tbody tr th {\n",
       "        vertical-align: top;\n",
       "    }\n",
       "\n",
       "    .dataframe thead th {\n",
       "        text-align: right;\n",
       "    }\n",
       "</style>\n",
       "<table border=\"1\" class=\"dataframe\">\n",
       "  <thead>\n",
       "    <tr style=\"text-align: right;\">\n",
       "      <th></th>\n",
       "      <th>Name</th>\n",
       "      <th>Nationality</th>\n",
       "      <th>Club</th>\n",
       "      <th>Preferred Foot</th>\n",
       "      <th>Work Rate</th>\n",
       "      <th>Position</th>\n",
       "    </tr>\n",
       "  </thead>\n",
       "  <tbody>\n",
       "    <tr>\n",
       "      <th>count</th>\n",
       "      <td>2000</td>\n",
       "      <td>2000</td>\n",
       "      <td>2000</td>\n",
       "      <td>2000</td>\n",
       "      <td>2000</td>\n",
       "      <td>2000</td>\n",
       "    </tr>\n",
       "    <tr>\n",
       "      <th>unique</th>\n",
       "      <td>1970</td>\n",
       "      <td>95</td>\n",
       "      <td>286</td>\n",
       "      <td>2</td>\n",
       "      <td>8</td>\n",
       "      <td>27</td>\n",
       "    </tr>\n",
       "    <tr>\n",
       "      <th>top</th>\n",
       "      <td>Danilo</td>\n",
       "      <td>Spain</td>\n",
       "      <td>Chelsea</td>\n",
       "      <td>Right</td>\n",
       "      <td>Medium/ Medium</td>\n",
       "      <td>GK</td>\n",
       "    </tr>\n",
       "    <tr>\n",
       "      <th>freq</th>\n",
       "      <td>3</td>\n",
       "      <td>251</td>\n",
       "      <td>24</td>\n",
       "      <td>1534</td>\n",
       "      <td>733</td>\n",
       "      <td>194</td>\n",
       "    </tr>\n",
       "  </tbody>\n",
       "</table>\n",
       "</div>"
      ],
      "text/plain": [
       "          Name Nationality     Club Preferred Foot       Work Rate Position\n",
       "count     2000        2000     2000           2000            2000     2000\n",
       "unique    1970          95      286              2               8       27\n",
       "top     Danilo       Spain  Chelsea          Right  Medium/ Medium       GK\n",
       "freq         3         251       24           1534             733      194"
      ]
     },
     "execution_count": 17,
     "metadata": {},
     "output_type": "execute_result"
    }
   ],
   "source": [
    "df_fifa.describe(include = \"object\")"
   ]
  },
  {
   "cell_type": "code",
   "execution_count": 18,
   "id": "a6a11109",
   "metadata": {},
   "outputs": [
    {
     "data": {
      "text/html": [
       "<div>\n",
       "<style scoped>\n",
       "    .dataframe tbody tr th:only-of-type {\n",
       "        vertical-align: middle;\n",
       "    }\n",
       "\n",
       "    .dataframe tbody tr th {\n",
       "        vertical-align: top;\n",
       "    }\n",
       "\n",
       "    .dataframe thead th {\n",
       "        text-align: right;\n",
       "    }\n",
       "</style>\n",
       "<table border=\"1\" class=\"dataframe\">\n",
       "  <thead>\n",
       "    <tr style=\"text-align: right;\">\n",
       "      <th></th>\n",
       "      <th>Age</th>\n",
       "      <th>Overall_rating</th>\n",
       "      <th>Potential</th>\n",
       "      <th>International Reputation</th>\n",
       "      <th>Weak Foot</th>\n",
       "      <th>Skill Moves</th>\n",
       "      <th>Jersey Number</th>\n",
       "      <th>Height</th>\n",
       "      <th>Weight</th>\n",
       "    </tr>\n",
       "  </thead>\n",
       "  <tbody>\n",
       "    <tr>\n",
       "      <th>count</th>\n",
       "      <td>2000.000000</td>\n",
       "      <td>2000.000000</td>\n",
       "      <td>2000.000000</td>\n",
       "      <td>2000.000000</td>\n",
       "      <td>2000.000000</td>\n",
       "      <td>2000.000000</td>\n",
       "      <td>2000.000000</td>\n",
       "      <td>2000.000000</td>\n",
       "      <td>2000.000000</td>\n",
       "    </tr>\n",
       "    <tr>\n",
       "      <th>mean</th>\n",
       "      <td>27.231500</td>\n",
       "      <td>78.197000</td>\n",
       "      <td>80.303500</td>\n",
       "      <td>1.774500</td>\n",
       "      <td>3.204000</td>\n",
       "      <td>2.919500</td>\n",
       "      <td>15.205500</td>\n",
       "      <td>5.781042</td>\n",
       "      <td>169.478000</td>\n",
       "    </tr>\n",
       "    <tr>\n",
       "      <th>std</th>\n",
       "      <td>3.859061</td>\n",
       "      <td>3.285969</td>\n",
       "      <td>4.114104</td>\n",
       "      <td>0.811775</td>\n",
       "      <td>0.728457</td>\n",
       "      <td>0.964098</td>\n",
       "      <td>13.210508</td>\n",
       "      <td>0.443337</td>\n",
       "      <td>16.050306</td>\n",
       "    </tr>\n",
       "    <tr>\n",
       "      <th>min</th>\n",
       "      <td>17.000000</td>\n",
       "      <td>75.000000</td>\n",
       "      <td>75.000000</td>\n",
       "      <td>1.000000</td>\n",
       "      <td>1.000000</td>\n",
       "      <td>1.000000</td>\n",
       "      <td>1.000000</td>\n",
       "      <td>5.083333</td>\n",
       "      <td>123.000000</td>\n",
       "    </tr>\n",
       "    <tr>\n",
       "      <th>25%</th>\n",
       "      <td>24.000000</td>\n",
       "      <td>76.000000</td>\n",
       "      <td>77.000000</td>\n",
       "      <td>1.000000</td>\n",
       "      <td>3.000000</td>\n",
       "      <td>2.000000</td>\n",
       "      <td>7.000000</td>\n",
       "      <td>5.500000</td>\n",
       "      <td>159.000000</td>\n",
       "    </tr>\n",
       "    <tr>\n",
       "      <th>50%</th>\n",
       "      <td>27.000000</td>\n",
       "      <td>77.000000</td>\n",
       "      <td>80.000000</td>\n",
       "      <td>2.000000</td>\n",
       "      <td>3.000000</td>\n",
       "      <td>3.000000</td>\n",
       "      <td>12.000000</td>\n",
       "      <td>6.000000</td>\n",
       "      <td>170.000000</td>\n",
       "    </tr>\n",
       "    <tr>\n",
       "      <th>75%</th>\n",
       "      <td>30.000000</td>\n",
       "      <td>80.000000</td>\n",
       "      <td>83.000000</td>\n",
       "      <td>2.000000</td>\n",
       "      <td>4.000000</td>\n",
       "      <td>4.000000</td>\n",
       "      <td>20.000000</td>\n",
       "      <td>6.166667</td>\n",
       "      <td>181.000000</td>\n",
       "    </tr>\n",
       "    <tr>\n",
       "      <th>max</th>\n",
       "      <td>41.000000</td>\n",
       "      <td>94.000000</td>\n",
       "      <td>95.000000</td>\n",
       "      <td>5.000000</td>\n",
       "      <td>5.000000</td>\n",
       "      <td>5.000000</td>\n",
       "      <td>99.000000</td>\n",
       "      <td>6.583333</td>\n",
       "      <td>227.000000</td>\n",
       "    </tr>\n",
       "  </tbody>\n",
       "</table>\n",
       "</div>"
      ],
      "text/plain": [
       "               Age  Overall_rating    Potential  International Reputation  \\\n",
       "count  2000.000000     2000.000000  2000.000000               2000.000000   \n",
       "mean     27.231500       78.197000    80.303500                  1.774500   \n",
       "std       3.859061        3.285969     4.114104                  0.811775   \n",
       "min      17.000000       75.000000    75.000000                  1.000000   \n",
       "25%      24.000000       76.000000    77.000000                  1.000000   \n",
       "50%      27.000000       77.000000    80.000000                  2.000000   \n",
       "75%      30.000000       80.000000    83.000000                  2.000000   \n",
       "max      41.000000       94.000000    95.000000                  5.000000   \n",
       "\n",
       "         Weak Foot  Skill Moves  Jersey Number       Height       Weight  \n",
       "count  2000.000000  2000.000000    2000.000000  2000.000000  2000.000000  \n",
       "mean      3.204000     2.919500      15.205500     5.781042   169.478000  \n",
       "std       0.728457     0.964098      13.210508     0.443337    16.050306  \n",
       "min       1.000000     1.000000       1.000000     5.083333   123.000000  \n",
       "25%       3.000000     2.000000       7.000000     5.500000   159.000000  \n",
       "50%       3.000000     3.000000      12.000000     6.000000   170.000000  \n",
       "75%       4.000000     4.000000      20.000000     6.166667   181.000000  \n",
       "max       5.000000     5.000000      99.000000     6.583333   227.000000  "
      ]
     },
     "execution_count": 18,
     "metadata": {},
     "output_type": "execute_result"
    }
   ],
   "source": [
    "df_fifa.describe()"
   ]
  },
  {
   "cell_type": "code",
   "execution_count": 17,
   "id": "a3283426",
   "metadata": {},
   "outputs": [
    {
     "data": {
      "text/html": [
       "<div>\n",
       "<style scoped>\n",
       "    .dataframe tbody tr th:only-of-type {\n",
       "        vertical-align: middle;\n",
       "    }\n",
       "\n",
       "    .dataframe tbody tr th {\n",
       "        vertical-align: top;\n",
       "    }\n",
       "\n",
       "    .dataframe thead th {\n",
       "        text-align: right;\n",
       "    }\n",
       "</style>\n",
       "<table border=\"1\" class=\"dataframe\">\n",
       "  <thead>\n",
       "    <tr style=\"text-align: right;\">\n",
       "      <th></th>\n",
       "      <th>Name</th>\n",
       "      <th>Age</th>\n",
       "      <th>Nationality</th>\n",
       "      <th>Overall_rating</th>\n",
       "      <th>Potential</th>\n",
       "      <th>Club</th>\n",
       "      <th>Preferred Foot</th>\n",
       "      <th>International Reputation</th>\n",
       "      <th>Weak Foot</th>\n",
       "      <th>Skill Moves</th>\n",
       "      <th>Work Rate</th>\n",
       "      <th>Position</th>\n",
       "      <th>Jersey Number</th>\n",
       "      <th>Height</th>\n",
       "      <th>Weight</th>\n",
       "    </tr>\n",
       "  </thead>\n",
       "  <tbody>\n",
       "    <tr>\n",
       "      <th>0</th>\n",
       "      <td>L. Messi</td>\n",
       "      <td>31</td>\n",
       "      <td>Argentina</td>\n",
       "      <td>94</td>\n",
       "      <td>94</td>\n",
       "      <td>FC Barcelona</td>\n",
       "      <td>Left</td>\n",
       "      <td>5</td>\n",
       "      <td>4</td>\n",
       "      <td>4</td>\n",
       "      <td>Medium/ Medium</td>\n",
       "      <td>RF</td>\n",
       "      <td>10</td>\n",
       "      <td>5.583333</td>\n",
       "      <td>159</td>\n",
       "    </tr>\n",
       "  </tbody>\n",
       "</table>\n",
       "</div>"
      ],
      "text/plain": [
       "       Name  Age Nationality  Overall_rating  Potential          Club  \\\n",
       "0  L. Messi   31   Argentina              94         94  FC Barcelona   \n",
       "\n",
       "  Preferred Foot  International Reputation  Weak Foot  Skill Moves  \\\n",
       "0           Left                         5          4            4   \n",
       "\n",
       "        Work Rate Position  Jersey Number    Height  Weight  \n",
       "0  Medium/ Medium       RF             10  5.583333     159  "
      ]
     },
     "execution_count": 17,
     "metadata": {},
     "output_type": "execute_result"
    }
   ],
   "source": [
    "df_fifa.head(1)"
   ]
  },
  {
   "cell_type": "code",
   "execution_count": 19,
   "id": "9ae9c14f",
   "metadata": {},
   "outputs": [
    {
     "data": {
      "text/plain": [
       "<AxesSubplot:ylabel='Density'>"
      ]
     },
     "execution_count": 19,
     "metadata": {},
     "output_type": "execute_result"
    },
    {
     "data": {
      "image/png": "[encoded data removed]",
      "text/plain": [
       "<Figure size 720x360 with 1 Axes>"
      ]
     },
     "metadata": {
      "needs_background": "light"
     },
     "output_type": "display_data"
    }
   ],
   "source": [
    "\n",
    "sns.distplot(df_fifa.skew(),hist=False,kde=True)\n",
    "#by visualizing plot we conclude our data is not normal"
   ]
  },
  {
   "cell_type": "markdown",
   "id": "a8b8c021",
   "metadata": {},
   "source": [
    "# outliers"
   ]
  },
  {
   "cell_type": "markdown",
   "id": "0fb31ec6",
   "metadata": {},
   "source": [
    "# Based on boxplot"
   ]
  },
  {
   "cell_type": "code",
   "execution_count": 20,
   "id": "d9530d86",
   "metadata": {},
   "outputs": [
    {
     "data": {
      "text/html": [
       "<div>\n",
       "<style scoped>\n",
       "    .dataframe tbody tr th:only-of-type {\n",
       "        vertical-align: middle;\n",
       "    }\n",
       "\n",
       "    .dataframe tbody tr th {\n",
       "        vertical-align: top;\n",
       "    }\n",
       "\n",
       "    .dataframe thead th {\n",
       "        text-align: right;\n",
       "    }\n",
       "</style>\n",
       "<table border=\"1\" class=\"dataframe\">\n",
       "  <thead>\n",
       "    <tr style=\"text-align: right;\">\n",
       "      <th></th>\n",
       "      <th>Age</th>\n",
       "      <th>Overall_rating</th>\n",
       "      <th>Potential</th>\n",
       "      <th>International Reputation</th>\n",
       "      <th>Weak Foot</th>\n",
       "      <th>Skill Moves</th>\n",
       "      <th>Jersey Number</th>\n",
       "      <th>Height</th>\n",
       "      <th>Weight</th>\n",
       "    </tr>\n",
       "  </thead>\n",
       "  <tbody>\n",
       "    <tr>\n",
       "      <th>0</th>\n",
       "      <td>31</td>\n",
       "      <td>94</td>\n",
       "      <td>94</td>\n",
       "      <td>5</td>\n",
       "      <td>4</td>\n",
       "      <td>4</td>\n",
       "      <td>10</td>\n",
       "      <td>5.583333</td>\n",
       "      <td>159</td>\n",
       "    </tr>\n",
       "    <tr>\n",
       "      <th>1</th>\n",
       "      <td>33</td>\n",
       "      <td>94</td>\n",
       "      <td>94</td>\n",
       "      <td>5</td>\n",
       "      <td>4</td>\n",
       "      <td>5</td>\n",
       "      <td>7</td>\n",
       "      <td>6.166667</td>\n",
       "      <td>183</td>\n",
       "    </tr>\n",
       "    <tr>\n",
       "      <th>2</th>\n",
       "      <td>26</td>\n",
       "      <td>92</td>\n",
       "      <td>93</td>\n",
       "      <td>5</td>\n",
       "      <td>5</td>\n",
       "      <td>5</td>\n",
       "      <td>10</td>\n",
       "      <td>5.750000</td>\n",
       "      <td>150</td>\n",
       "    </tr>\n",
       "  </tbody>\n",
       "</table>\n",
       "</div>"
      ],
      "text/plain": [
       "   Age  Overall_rating  Potential  International Reputation  Weak Foot  \\\n",
       "0   31              94         94                         5          4   \n",
       "1   33              94         94                         5          4   \n",
       "2   26              92         93                         5          5   \n",
       "\n",
       "   Skill Moves  Jersey Number    Height  Weight  \n",
       "0            4             10  5.583333     159  \n",
       "1            5              7  6.166667     183  \n",
       "2            5             10  5.750000     150  "
      ]
     },
     "execution_count": 20,
     "metadata": {},
     "output_type": "execute_result"
    }
   ],
   "source": [
    "df_num = df_fifa.select_dtypes(include = np.number)\n",
    "df_num.head(3)"
   ]
  },
  {
   "cell_type": "code",
   "execution_count": 20,
   "id": "364a0918",
   "metadata": {},
   "outputs": [
    {
     "data": {
      "image/png": "[encoded data removed]",
      "text/plain": [
       "<Figure size 1080x576 with 6 Axes>"
      ]
     },
     "metadata": {
      "needs_background": "light"
     },
     "output_type": "display_data"
    }
   ],
   "source": [
    "fig, ax = plt.subplots(2, 3, figsize=(15, 8))\n",
    "# plot the boxplot using boxplot() from seaborn\n",
    "# z: let the variable z define the boxplot\n",
    "# x: data for which the boxplot is to be plotted\n",
    "# orient: \"h\" specifies horizontal boxplot (for vertical boxplots use \"v\")\n",
    "# whis: proportion of the IQR past the low and high quartiles to extend the plot whiskers\n",
    "# ax: specifies the axes object to draw the plot onto\n",
    "# set_xlabel(): set the x-axis label\n",
    "# fontsize: sets the font size of the x-axis label\n",
    "\n",
    "for variable, subplot in zip(df_num.columns, ax.flatten()):\n",
    "    z = sns.boxplot(x = df_num[variable], orient = \"h\",whis=1.5 , ax=subplot) # plot the boxplot\n",
    "    z.set_xlabel(variable, fontsize = 20)                                     # set the x-axis label"
   ]
  },
  {
   "cell_type": "code",
   "execution_count": 23,
   "id": "c6b5aa8b",
   "metadata": {},
   "outputs": [
    {
     "data": {
      "image/png": "[encoded data removed]",
      "text/plain": [
       "<Figure size 1080x576 with 9 Axes>"
      ]
     },
     "metadata": {
      "needs_background": "light"
     },
     "output_type": "display_data"
    }
   ],
   "source": [
    "fig, ax = plt.subplots(3, 3, figsize=(15,8))\n",
    "for i,j in zip(df_num.columns, ax.flatten()):\n",
    "    z = sns.boxplot(x = df_num[i], whis=1.5, ax=j, orient=\"h\")\n",
    "    z.set_xlabel(i, fontsize = 20)"
   ]
  },
  {
   "cell_type": "code",
   "execution_count": null,
   "id": "77bdf922",
   "metadata": {},
   "outputs": [],
   "source": [
    "#intrepetation :Age,Overall rating,POtential,International Reputation,Weak Foot"
   ]
  },
  {
   "cell_type": "markdown",
   "id": "36f27440",
   "metadata": {},
   "source": [
    "# Based on IQR"
   ]
  },
  {
   "cell_type": "code",
   "execution_count": 25,
   "id": "ecad0936",
   "metadata": {},
   "outputs": [
    {
     "data": {
      "text/plain": [
       "Age                          24.0\n",
       "Overall_rating               76.0\n",
       "Potential                    77.0\n",
       "International Reputation      1.0\n",
       "Weak Foot                     3.0\n",
       "Skill Moves                   2.0\n",
       "Jersey Number                 7.0\n",
       "Height                        5.5\n",
       "Weight                      159.0\n",
       "Name: 0.25, dtype: float64"
      ]
     },
     "execution_count": 25,
     "metadata": {},
     "output_type": "execute_result"
    }
   ],
   "source": [
    "q1=df_fifa.quantile(0.25)\n",
    "q1"
   ]
  },
  {
   "cell_type": "code",
   "execution_count": 26,
   "id": "022c3dc4",
   "metadata": {},
   "outputs": [
    {
     "data": {
      "text/plain": [
       "Age                          30.000000\n",
       "Overall_rating               80.000000\n",
       "Potential                    83.000000\n",
       "International Reputation      2.000000\n",
       "Weak Foot                     4.000000\n",
       "Skill Moves                   4.000000\n",
       "Jersey Number                20.000000\n",
       "Height                        6.166667\n",
       "Weight                      181.000000\n",
       "Name: 0.75, dtype: float64"
      ]
     },
     "execution_count": 26,
     "metadata": {},
     "output_type": "execute_result"
    }
   ],
   "source": [
    "q3=df_fifa.quantile(0.75)\n",
    "q3"
   ]
  },
  {
   "cell_type": "code",
   "execution_count": 27,
   "id": "7e9b5955",
   "metadata": {},
   "outputs": [
    {
     "data": {
      "text/plain": [
       "Age                          6.000000\n",
       "Overall_rating               4.000000\n",
       "Potential                    6.000000\n",
       "International Reputation     1.000000\n",
       "Weak Foot                    1.000000\n",
       "Skill Moves                  2.000000\n",
       "Jersey Number               13.000000\n",
       "Height                       0.666667\n",
       "Weight                      22.000000\n",
       "dtype: float64"
      ]
     },
     "execution_count": 27,
     "metadata": {},
     "output_type": "execute_result"
    }
   ],
   "source": [
    "IQR=q3-q1\n",
    "IQR"
   ]
  },
  {
   "cell_type": "code",
   "execution_count": 28,
   "id": "7fa10902",
   "metadata": {},
   "outputs": [
    {
     "data": {
      "text/html": [
       "<div>\n",
       "<style scoped>\n",
       "    .dataframe tbody tr th:only-of-type {\n",
       "        vertical-align: middle;\n",
       "    }\n",
       "\n",
       "    .dataframe tbody tr th {\n",
       "        vertical-align: top;\n",
       "    }\n",
       "\n",
       "    .dataframe thead th {\n",
       "        text-align: right;\n",
       "    }\n",
       "</style>\n",
       "<table border=\"1\" class=\"dataframe\">\n",
       "  <thead>\n",
       "    <tr style=\"text-align: right;\">\n",
       "      <th></th>\n",
       "      <th>Name</th>\n",
       "      <th>Age</th>\n",
       "      <th>Nationality</th>\n",
       "      <th>Overall_rating</th>\n",
       "      <th>Potential</th>\n",
       "      <th>Club</th>\n",
       "      <th>Preferred Foot</th>\n",
       "      <th>International Reputation</th>\n",
       "      <th>Weak Foot</th>\n",
       "      <th>Skill Moves</th>\n",
       "      <th>Work Rate</th>\n",
       "      <th>Position</th>\n",
       "      <th>Jersey Number</th>\n",
       "      <th>Height</th>\n",
       "      <th>Weight</th>\n",
       "    </tr>\n",
       "  </thead>\n",
       "  <tbody>\n",
       "    <tr>\n",
       "      <th>55</th>\n",
       "      <td>L. SanÃ©</td>\n",
       "      <td>22</td>\n",
       "      <td>Germany</td>\n",
       "      <td>86</td>\n",
       "      <td>92</td>\n",
       "      <td>Manchester City</td>\n",
       "      <td>Left</td>\n",
       "      <td>2</td>\n",
       "      <td>3</td>\n",
       "      <td>4</td>\n",
       "      <td>High/ Medium</td>\n",
       "      <td>LW</td>\n",
       "      <td>19</td>\n",
       "      <td>6.0</td>\n",
       "      <td>165</td>\n",
       "    </tr>\n",
       "  </tbody>\n",
       "</table>\n",
       "</div>"
      ],
      "text/plain": [
       "        Name  Age Nationality  Overall_rating  Potential             Club  \\\n",
       "55  L. SanÃ©   22     Germany              86         92  Manchester City   \n",
       "\n",
       "   Preferred Foot  International Reputation  Weak Foot  Skill Moves  \\\n",
       "55           Left                         2          3            4   \n",
       "\n",
       "       Work Rate Position  Jersey Number  Height  Weight  \n",
       "55  High/ Medium       LW             19     6.0     165  "
      ]
     },
     "execution_count": 28,
     "metadata": {},
     "output_type": "execute_result"
    }
   ],
   "source": [
    "df_fifa_iqr = df_fifa[~((df_fifa <(q1-1.5*IQR))| (df_fifa>(q3+1.5*IQR))).any(axis=1)]\n",
    "df_fifa_iqr.head(1)"
   ]
  },
  {
   "cell_type": "code",
   "execution_count": 29,
   "id": "02699113",
   "metadata": {},
   "outputs": [
    {
     "data": {
      "text/plain": [
       "(1837, 15)"
      ]
     },
     "execution_count": 29,
     "metadata": {},
     "output_type": "execute_result"
    }
   ],
   "source": [
    "df_fifa_iqr.shape"
   ]
  },
  {
   "cell_type": "code",
   "execution_count": 26,
   "id": "b2c881b9",
   "metadata": {},
   "outputs": [
    {
     "data": {
      "image/png": "[encoded data removed]",
      "text/plain": [
       "<Figure size 1080x288 with 3 Axes>"
      ]
     },
     "metadata": {
      "needs_background": "light"
     },
     "output_type": "display_data"
    }
   ],
   "source": [
    "fig, ax = plt.subplots(1, 3, figsize=(15, 4))\n",
    "variables=['Age','Overall_rating','Potential','International Reputation','Weak Foot']\n",
    "# plot the boxplot using boxplot() from seaborn\n",
    "# z: let the variable z define the boxplot\n",
    "# x: data for which the boxplot is to be plotted\n",
    "# orient: \"h\" specifies horizontal boxplot (for vertical boxplots use \"v\")\n",
    "# whis: proportion of the IQR past the low and high quartiles to extend the plot whiskers\n",
    "# ax: specifies the axes object to draw the plot onto\n",
    "# set_xlabel(): set the x-axis label\n",
    "# fontsize: set the font size of the x-axis label\n",
    "for variable, subplot in zip(df_fifa_iqr[variables], ax.flatten()):\n",
    "    z = sns.boxplot(x=df_fifa_iqr[variable], orient = \"h\",whis=1.5 , ax=subplot)\n",
    "    z.set_xlabel(variable, fontsize = 20)"
   ]
  },
  {
   "cell_type": "code",
   "execution_count": 30,
   "id": "26b133ec",
   "metadata": {},
   "outputs": [],
   "source": [
    "df=df_fifa_iqr.select_dtypes(include=np.number)"
   ]
  },
  {
   "cell_type": "code",
   "execution_count": 31,
   "id": "d9b5f040",
   "metadata": {},
   "outputs": [
    {
     "data": {
      "image/png": "[encoded data removed]",
      "text/plain": [
       "<Figure size 1080x576 with 9 Axes>"
      ]
     },
     "metadata": {
      "needs_background": "light"
     },
     "output_type": "display_data"
    }
   ],
   "source": [
    "fig, ax= plt.subplots(3,3, figsize=(15,8))\n",
    "for i, j in zip(df.columns, ax.flatten()):\n",
    "    z=sns.boxplot(x=df_fifa_iqr[i], ax=j, whis=1.5, orient=\"h\")\n",
    "    z.set_xlabel(i, fontsize=20)"
   ]
  },
  {
   "cell_type": "code",
   "execution_count": null,
   "id": "86c36af8",
   "metadata": {},
   "outputs": [],
   "source": [
    "#Interpretation: The outliers have been removed and the data can be used for analysis.\n",
    "#However, note there are some more outliers present in the data. \n",
    "#These outliers are based on the new IQR and are not removed."
   ]
  },
  {
   "cell_type": "code",
   "execution_count": null,
   "id": "f50939e6",
   "metadata": {},
   "outputs": [],
   "source": []
  },
  {
   "cell_type": "markdown",
   "id": "3c1a7363",
   "metadata": {},
   "source": [
    " a)Assuming age as population, perform the central limit theorem with sample size of 200.\n",
    "Find the standard error and the mean of sampling distribution. \n",
    "Compare the results with population mean and standard deviation.\n",
    "Explain in non-technical terms why the estimated standard error of a sample mean tends to decrease\n",
    "with an increase in sample size\n"
   ]
  },
  {
   "cell_type": "code",
   "execution_count": 29,
   "id": "ee5487e7",
   "metadata": {},
   "outputs": [],
   "source": [
    "#central limit theorem"
   ]
  },
  {
   "cell_type": "code",
   "execution_count": 28,
   "id": "47303d3f",
   "metadata": {},
   "outputs": [
    {
     "name": "stdout",
     "output_type": "stream",
     "text": [
      "sample_means: [27.48, 27.036, 27.17, 27.292, 27.252, 27.36, 27.028, 27.126, 27.592, 27.524, 27.186, 27.116, 26.996, 27.422, 27.454, 27.12, 27.132, 27.468, 27.306, 27.344, 27.112, 27.338, 26.812, 27.288, 27.158, 26.87, 27.262, 27.588, 27.286, 27.438, 27.022, 27.094, 27.042, 27.324, 27.3, 26.95, 27.146, 27.254, 27.492, 27.5, 27.122, 27.162, 27.356, 27.342, 27.248, 27.25, 27.104, 27.148, 26.996, 27.336, 26.84, 27.412, 27.182, 27.174, 27.164, 27.088, 27.202, 26.814, 27.08, 27.598, 27.334, 27.17, 27.182, 27.212, 27.152, 27.382, 27.602, 27.242, 27.292, 27.342, 27.232, 27.038, 27.212, 27.32, 27.182, 27.138, 27.048, 27.176, 27.356, 27.146, 27.482, 27.53, 27.446, 26.876, 27.368, 27.142, 27.42, 27.156, 27.304, 27.422, 27.138, 27.148, 27.158, 27.23, 27.34, 27.35, 27.11, 27.458, 27.046, 27.47, 27.152, 27.118, 27.23, 27.244, 27.044, 27.074, 27.274, 27.192, 27.504, 27.098, 27.416, 27.434, 27.374, 27.278, 27.388, 27.064, 27.104, 27.368, 27.334, 27.186, 27.408, 27.048, 27.092, 27.41, 27.186, 27.092, 27.242, 27.376, 27.024, 27.04, 27.214, 27.236, 27.362, 27.104, 27.144, 26.878, 27.204, 27.168, 27.172, 27.272, 26.976, 27.222, 27.082, 27.342, 27.056, 27.384, 27.378, 27.342, 26.864, 27.224, 27.062, 27.022, 27.286, 27.186, 27.478, 27.01, 26.954, 27.486, 27.524, 27.232, 27.454, 27.334, 27.158, 27.04, 27.084, 27.21, 27.222, 27.536, 27.112, 27.26, 27.346, 27.066, 27.17, 27.134, 27.192, 27.338, 27.188, 27.304, 27.336, 27.204, 27.41, 27.66, 27.406, 27.212, 27.332, 27.396, 27.19, 27.342, 27.192, 26.926, 27.404, 27.094, 27.08, 27.336, 27.398, 27.066, 27.2, 27.152, 26.972, 26.92]\n"
     ]
    }
   ],
   "source": [
    "population_array=df_fifa['Age']\n",
    "population_array\n",
    "n_samples=200\n",
    "sample_means=[]\n",
    "for i in range(n_samples):\n",
    "        sample=np.random.choice(population_array,size=500)\n",
    "        sample_mean=np.mean(sample)\n",
    "        sample_means.append(sample_mean)\n",
    "print('sample_means'':',sample_means)"
   ]
  },
  {
   "cell_type": "code",
   "execution_count": 30,
   "id": "cf8cba59",
   "metadata": {},
   "outputs": [
    {
     "data": {
      "image/png": "[encoded data removed]",
      "text/plain": [
       "<Figure size 720x360 with 1 Axes>"
      ]
     },
     "metadata": {
      "needs_background": "light"
     },
     "output_type": "display_data"
    }
   ],
   "source": [
    "sns.distplot(sample_means)\n",
    "plt.show()"
   ]
  },
  {
   "cell_type": "code",
   "execution_count": 31,
   "id": "81634fde",
   "metadata": {},
   "outputs": [
    {
     "data": {
      "text/plain": [
       "0.1685026516111839"
      ]
     },
     "execution_count": 31,
     "metadata": {},
     "output_type": "execute_result"
    }
   ],
   "source": [
    "#standard error\n",
    "std_error=np.std(sample_means)\n",
    "std_error"
   ]
  },
  {
   "cell_type": "code",
   "execution_count": 32,
   "id": "b6eadf97",
   "metadata": {},
   "outputs": [
    {
     "data": {
      "text/plain": [
       "0.08626965790473475"
      ]
     },
     "execution_count": 32,
     "metadata": {},
     "output_type": "execute_result"
    }
   ],
   "source": [
    "#standard error\n",
    "std_age=np.std(df_fifa['Age'])\n",
    "n=len(df_fifa['Age'])\n",
    "standard_error=std_age/np.sqrt(n)\n",
    "standard_error"
   ]
  },
  {
   "cell_type": "code",
   "execution_count": 33,
   "id": "386f6283",
   "metadata": {},
   "outputs": [
    {
     "name": "stdout",
     "output_type": "stream",
     "text": [
      "Sample with replacement: [31, 33, 27, 29, 26, 30, 35, 28, 23, 23, 25, 30, 28, 24, 28, 24, 30, 27, 23, 26]\n"
     ]
    }
   ],
   "source": [
    "#the mean of sampling distribution. \n",
    "#sapmling with replacemnet \n",
    "sample_wr = random.choices(population = df_fifa['Age'], k = 20)\n",
    "\n",
    "# print the sample\n",
    "print('Sample with replacement:', sample_wr)\n",
    "\n"
   ]
  },
  {
   "cell_type": "code",
   "execution_count": 34,
   "id": "ac6ac763",
   "metadata": {},
   "outputs": [
    {
     "data": {
      "text/plain": [
       "27.228419999999996"
      ]
     },
     "execution_count": 34,
     "metadata": {},
     "output_type": "execute_result"
    }
   ],
   "source": [
    "#the mean of sampling distribution. \n",
    "m_s=np.mean(sample_means)\n",
    "m_s"
   ]
  },
  {
   "cell_type": "code",
   "execution_count": 35,
   "id": "0bbb8910",
   "metadata": {},
   "outputs": [
    {
     "name": "stdout",
     "output_type": "stream",
     "text": [
      "27.2315\n",
      "3.8580963894127795\n"
     ]
    }
   ],
   "source": [
    "#Compare the results with population mean and standard deviation.\n",
    "pop_mean=np.mean(df_fifa['Age'])\n",
    "print(pop_mean)\n",
    "pop_std=np.std(df_fifa['Age'])\n",
    "print(pop_std)\n",
    "#pop_mean is 9 times more than pop_std\n"
   ]
  },
  {
   "cell_type": "code",
   "execution_count": 37,
   "id": "d25ac1a2",
   "metadata": {},
   "outputs": [],
   "source": [
    "#Standard error decreases when sample size increases –\n",
    "#as the sample size gets closer to the true size of the population, \n",
    "#the sample means cluster more and more around the true population mean.\n",
    "\n",
    "\n",
    "\n",
    "\n",
    "#The standard error is also inversely proportional to the sample size;\n",
    "#the larger the sample size, the smaller the standard error because\n",
    "#the statistic will approach the actual value.\n",
    "#The standard error is considered part of inferential statistics.\n",
    "#It represents the standard deviation of the mean within a dataset."
   ]
  },
  {
   "cell_type": "markdown",
   "id": "d1d571b0",
   "metadata": {},
   "source": [
    "# b)Is there any evidence that the players overall rating is greater than 80?"
   ]
  },
  {
   "cell_type": "code",
   "execution_count": 42,
   "id": "611354c7",
   "metadata": {},
   "outputs": [
    {
     "data": {
      "text/html": [
       "<div>\n",
       "<style scoped>\n",
       "    .dataframe tbody tr th:only-of-type {\n",
       "        vertical-align: middle;\n",
       "    }\n",
       "\n",
       "    .dataframe tbody tr th {\n",
       "        vertical-align: top;\n",
       "    }\n",
       "\n",
       "    .dataframe thead th {\n",
       "        text-align: right;\n",
       "    }\n",
       "</style>\n",
       "<table border=\"1\" class=\"dataframe\">\n",
       "  <thead>\n",
       "    <tr style=\"text-align: right;\">\n",
       "      <th></th>\n",
       "      <th>Name</th>\n",
       "      <th>Age</th>\n",
       "      <th>Nationality</th>\n",
       "      <th>Overall_rating</th>\n",
       "      <th>Potential</th>\n",
       "      <th>Club</th>\n",
       "      <th>Preferred Foot</th>\n",
       "      <th>International Reputation</th>\n",
       "      <th>Weak Foot</th>\n",
       "      <th>Skill Moves</th>\n",
       "      <th>Work Rate</th>\n",
       "      <th>Position</th>\n",
       "      <th>Jersey Number</th>\n",
       "      <th>Height</th>\n",
       "      <th>Weight</th>\n",
       "    </tr>\n",
       "  </thead>\n",
       "  <tbody>\n",
       "    <tr>\n",
       "      <th>0</th>\n",
       "      <td>L. Messi</td>\n",
       "      <td>31</td>\n",
       "      <td>Argentina</td>\n",
       "      <td>94</td>\n",
       "      <td>94</td>\n",
       "      <td>FC Barcelona</td>\n",
       "      <td>Left</td>\n",
       "      <td>5</td>\n",
       "      <td>4</td>\n",
       "      <td>4</td>\n",
       "      <td>Medium/ Medium</td>\n",
       "      <td>RF</td>\n",
       "      <td>10</td>\n",
       "      <td>5.583333</td>\n",
       "      <td>159</td>\n",
       "    </tr>\n",
       "  </tbody>\n",
       "</table>\n",
       "</div>"
      ],
      "text/plain": [
       "       Name  Age Nationality  Overall_rating  Potential          Club  \\\n",
       "0  L. Messi   31   Argentina              94         94  FC Barcelona   \n",
       "\n",
       "  Preferred Foot  International Reputation  Weak Foot  Skill Moves  \\\n",
       "0           Left                         5          4            4   \n",
       "\n",
       "        Work Rate Position  Jersey Number    Height  Weight  \n",
       "0  Medium/ Medium       RF             10  5.583333     159  "
      ]
     },
     "execution_count": 42,
     "metadata": {},
     "output_type": "execute_result"
    }
   ],
   "source": [
    "df_fifa.head(1)"
   ]
  },
  {
   "cell_type": "code",
   "execution_count": 34,
   "id": "9c10a953",
   "metadata": {},
   "outputs": [
    {
     "data": {
      "text/plain": [
       "<AxesSubplot:xlabel='Overall_rating', ylabel='count'>"
      ]
     },
     "execution_count": 34,
     "metadata": {},
     "output_type": "execute_result"
    },
    {
     "data": {
      "image/png": "[encoded data removed]",
      "text/plain": [
       "<Figure size 1080x576 with 1 Axes>"
      ]
     },
     "metadata": {
      "needs_background": "light"
     },
     "output_type": "display_data"
    }
   ],
   "source": [
    "plt.figure(figsize=(15,8))\n",
    "sns.countplot(df_fifa[\"Overall_rating\"])\n",
    "#so you can see there is rating below 80 also so there is yes  evidance that rating is less than 80"
   ]
  },
  {
   "cell_type": "code",
   "execution_count": 36,
   "id": "d635f7cd",
   "metadata": {},
   "outputs": [],
   "source": [
    "boxcox_over=stats.boxcox(df_fifa['Overall_rating'])[0]"
   ]
  },
  {
   "cell_type": "code",
   "execution_count": 37,
   "id": "62595ac5",
   "metadata": {},
   "outputs": [
    {
     "data": {
      "text/plain": [
       "ShapiroResult(statistic=1.0, pvalue=1.0)"
      ]
     },
     "execution_count": 37,
     "metadata": {},
     "output_type": "execute_result"
    }
   ],
   "source": [
    "pvalue=stats.shapiro(boxcox_over)\n",
    "pvalue\n"
   ]
  },
  {
   "cell_type": "code",
   "execution_count": 105,
   "id": "0d894ad3",
   "metadata": {},
   "outputs": [],
   "source": [
    "#hypothesis testing\n",
    "#ho:overall_rating<=80\n",
    "#ha:overall_rating>80\n"
   ]
  },
  {
   "cell_type": "code",
   "execution_count": 38,
   "id": "ce55f0bc",
   "metadata": {},
   "outputs": [
    {
     "name": "stdout",
     "output_type": "stream",
     "text": [
      "Z-score:  -2.5751162086368402e+20\n",
      "p-value:  1.0\n",
      "fail to reject null\n"
     ]
    }
   ],
   "source": [
    "z_score, pval = stests.ztest(x1 = boxcox_over, value = 80, alternative = 'larger')\n",
    "print(\"Z-score: \", z_score)\n",
    "print(\"p-value: \", pval)\n",
    "if pval>0.05:\n",
    "    print('fail to reject null')\n",
    "else:\n",
    "    print('alternate accept')"
   ]
  },
  {
   "cell_type": "code",
   "execution_count": null,
   "id": "fe8ab03c",
   "metadata": {},
   "outputs": [],
   "source": [
    "#we  reject null and overall rating is not greater than to 80"
   ]
  },
  {
   "cell_type": "markdown",
   "id": "4b8cd578",
   "metadata": {},
   "source": [
    " c)Perform the statistical test to identify whether preferred foot has any impact on potential. \n",
    "Also, perform the graphical analysis."
   ]
  },
  {
   "cell_type": "code",
   "execution_count": 41,
   "id": "5c238486",
   "metadata": {},
   "outputs": [
    {
     "data": {
      "text/html": [
       "<div>\n",
       "<style scoped>\n",
       "    .dataframe tbody tr th:only-of-type {\n",
       "        vertical-align: middle;\n",
       "    }\n",
       "\n",
       "    .dataframe tbody tr th {\n",
       "        vertical-align: top;\n",
       "    }\n",
       "\n",
       "    .dataframe thead th {\n",
       "        text-align: right;\n",
       "    }\n",
       "</style>\n",
       "<table border=\"1\" class=\"dataframe\">\n",
       "  <thead>\n",
       "    <tr style=\"text-align: right;\">\n",
       "      <th></th>\n",
       "      <th>Name</th>\n",
       "      <th>Age</th>\n",
       "      <th>Nationality</th>\n",
       "      <th>Overall_rating</th>\n",
       "      <th>Potential</th>\n",
       "      <th>Club</th>\n",
       "      <th>Preferred Foot</th>\n",
       "      <th>International Reputation</th>\n",
       "      <th>Weak Foot</th>\n",
       "      <th>Skill Moves</th>\n",
       "      <th>Work Rate</th>\n",
       "      <th>Position</th>\n",
       "      <th>Jersey Number</th>\n",
       "      <th>Height</th>\n",
       "      <th>Weight</th>\n",
       "    </tr>\n",
       "  </thead>\n",
       "  <tbody>\n",
       "    <tr>\n",
       "      <th>0</th>\n",
       "      <td>L. Messi</td>\n",
       "      <td>31</td>\n",
       "      <td>Argentina</td>\n",
       "      <td>94</td>\n",
       "      <td>94</td>\n",
       "      <td>FC Barcelona</td>\n",
       "      <td>Left</td>\n",
       "      <td>5</td>\n",
       "      <td>4</td>\n",
       "      <td>4</td>\n",
       "      <td>Medium/ Medium</td>\n",
       "      <td>RF</td>\n",
       "      <td>10</td>\n",
       "      <td>5.583333</td>\n",
       "      <td>159</td>\n",
       "    </tr>\n",
       "    <tr>\n",
       "      <th>1</th>\n",
       "      <td>Cristiano Ronaldo</td>\n",
       "      <td>33</td>\n",
       "      <td>Portugal</td>\n",
       "      <td>94</td>\n",
       "      <td>94</td>\n",
       "      <td>Juventus</td>\n",
       "      <td>Right</td>\n",
       "      <td>5</td>\n",
       "      <td>4</td>\n",
       "      <td>5</td>\n",
       "      <td>High/ Low</td>\n",
       "      <td>ST</td>\n",
       "      <td>7</td>\n",
       "      <td>6.166667</td>\n",
       "      <td>183</td>\n",
       "    </tr>\n",
       "    <tr>\n",
       "      <th>2</th>\n",
       "      <td>Neymar Jr</td>\n",
       "      <td>26</td>\n",
       "      <td>Brazil</td>\n",
       "      <td>92</td>\n",
       "      <td>93</td>\n",
       "      <td>Paris Saint-Germain</td>\n",
       "      <td>Right</td>\n",
       "      <td>5</td>\n",
       "      <td>5</td>\n",
       "      <td>5</td>\n",
       "      <td>High/ Medium</td>\n",
       "      <td>LW</td>\n",
       "      <td>10</td>\n",
       "      <td>5.750000</td>\n",
       "      <td>150</td>\n",
       "    </tr>\n",
       "  </tbody>\n",
       "</table>\n",
       "</div>"
      ],
      "text/plain": [
       "                Name  Age Nationality  Overall_rating  Potential  \\\n",
       "0           L. Messi   31   Argentina              94         94   \n",
       "1  Cristiano Ronaldo   33    Portugal              94         94   \n",
       "2          Neymar Jr   26      Brazil              92         93   \n",
       "\n",
       "                  Club Preferred Foot  International Reputation  Weak Foot  \\\n",
       "0         FC Barcelona           Left                         5          4   \n",
       "1             Juventus          Right                         5          4   \n",
       "2  Paris Saint-Germain          Right                         5          5   \n",
       "\n",
       "   Skill Moves       Work Rate Position  Jersey Number    Height  Weight  \n",
       "0            4  Medium/ Medium       RF             10  5.583333     159  \n",
       "1            5       High/ Low       ST              7  6.166667     183  \n",
       "2            5    High/ Medium       LW             10  5.750000     150  "
      ]
     },
     "execution_count": 41,
     "metadata": {},
     "output_type": "execute_result"
    }
   ],
   "source": [
    "df_fifa.head(3)"
   ]
  },
  {
   "cell_type": "code",
   "execution_count": 48,
   "id": "8e4db83e",
   "metadata": {},
   "outputs": [
    {
     "data": {
      "text/plain": [
       "<AxesSubplot:xlabel='Preferred Foot', ylabel='Potential'>"
      ]
     },
     "execution_count": 48,
     "metadata": {},
     "output_type": "execute_result"
    },
    {
     "data": {
      "image/png": "[encoded data removed]",
      "text/plain": [
       "<Figure size 720x360 with 1 Axes>"
      ]
     },
     "metadata": {
      "needs_background": "light"
     },
     "output_type": "display_data"
    }
   ],
   "source": [
    "sns.barplot(data=df_fifa, x=\"Preferred Foot\", y=\"Potential\")"
   ]
  },
  {
   "cell_type": "code",
   "execution_count": null,
   "id": "68cb581d",
   "metadata": {},
   "outputs": [],
   "source": [
    "we have a categorical column and a continous column and catgeorical has 2 samples left and right so we can use \n",
    "2- sample - Ttest"
   ]
  },
  {
   "cell_type": "code",
   "execution_count": 42,
   "id": "1890455a",
   "metadata": {},
   "outputs": [
    {
     "data": {
      "text/plain": [
       "array(['Left', 'Right'], dtype=object)"
      ]
     },
     "execution_count": 42,
     "metadata": {},
     "output_type": "execute_result"
    }
   ],
   "source": [
    "df_fifa['Preferred Foot'].unique()"
   ]
  },
  {
   "cell_type": "code",
   "execution_count": 43,
   "id": "94ae08ff",
   "metadata": {},
   "outputs": [
    {
     "data": {
      "text/plain": [
       "Right    1534\n",
       "Left      466\n",
       "Name: Preferred Foot, dtype: int64"
      ]
     },
     "execution_count": 43,
     "metadata": {},
     "output_type": "execute_result"
    }
   ],
   "source": [
    "df_fifa['Preferred Foot'].value_counts()"
   ]
  },
  {
   "cell_type": "code",
   "execution_count": 44,
   "id": "43c7cb18",
   "metadata": {},
   "outputs": [
    {
     "data": {
      "text/plain": [
       "2000"
      ]
     },
     "execution_count": 44,
     "metadata": {},
     "output_type": "execute_result"
    }
   ],
   "source": [
    "len(df_fifa['Preferred Foot'])"
   ]
  },
  {
   "cell_type": "code",
   "execution_count": 45,
   "id": "da55a08b",
   "metadata": {},
   "outputs": [
    {
     "name": "stdout",
     "output_type": "stream",
     "text": [
      "ShapiroResult(statistic=0.523396909236908, pvalue=0.0)\n",
      "ShapiroResult(statistic=0.523395836353302, pvalue=0.0)\n",
      "ShapiroResult(statistic=0.9384800791740417, pvalue=5.016414837142018e-28)\n"
     ]
    }
   ],
   "source": [
    "#check normality\n",
    "print(stats.shapiro(df_fifa['Preferred Foot']=='Left'))\n",
    "print(stats.shapiro(df_fifa['Preferred Foot']=='Right'))\n",
    "print(stats.shapiro(df_fifa['Potential']))\n",
    "#preferred foot data is not normal so we have to normal the data by using boxcox\n"
   ]
  },
  {
   "cell_type": "code",
   "execution_count": 46,
   "id": "94d00b91",
   "metadata": {},
   "outputs": [],
   "source": [
    "x=df_fifa[df_fifa['Preferred Foot']=='Left']['Potential']\n",
    "y=df_fifa[df_fifa['Preferred Foot']=='Right']['Potential']"
   ]
  },
  {
   "cell_type": "code",
   "execution_count": 47,
   "id": "dbb14fe8",
   "metadata": {},
   "outputs": [],
   "source": [
    "#we used boxcox to change data to normal data\n",
    "box_x=stats.boxcox(x)[0]\n",
    "box_y=stats.boxcox(y)[0]\n"
   ]
  },
  {
   "cell_type": "code",
   "execution_count": 49,
   "id": "c8ebcd5c",
   "metadata": {},
   "outputs": [
    {
     "name": "stdout",
     "output_type": "stream",
     "text": [
      "ShapiroResult(statistic=1.0, pvalue=1.0)\n",
      "ShapiroResult(statistic=1.0, pvalue=1.0)\n"
     ]
    }
   ],
   "source": [
    "print(stats.shapiro(box_x))\n",
    "print(stats.shapiro(box_y))\n"
   ]
  },
  {
   "cell_type": "code",
   "execution_count": 50,
   "id": "ec1aec6b",
   "metadata": {},
   "outputs": [
    {
     "data": {
      "text/plain": [
       "LeveneResult(statistic=3630.9884767001, pvalue=0.0)"
      ]
     },
     "execution_count": 50,
     "metadata": {},
     "output_type": "execute_result"
    }
   ],
   "source": [
    "#to check variance test\n",
    "left=box_x\n",
    "right=box_y\n",
    "stats.levene(left,right)\n",
    "#variance are equal"
   ]
  },
  {
   "cell_type": "code",
   "execution_count": 76,
   "id": "24d91c2b",
   "metadata": {},
   "outputs": [],
   "source": [
    "#is preferred foot impacting on potential\n",
    "#ho:mu of preferred left=mu of preferred right\n",
    "#ha:mu of preferred left!=mu of preferred right"
   ]
  },
  {
   "cell_type": "code",
   "execution_count": 51,
   "id": "63a3db9a",
   "metadata": {},
   "outputs": [
    {
     "data": {
      "text/plain": [
       "9.386494221742003"
      ]
     },
     "execution_count": 51,
     "metadata": {},
     "output_type": "execute_result"
    }
   ],
   "source": [
    "samp_mean_1 = np.mean(left)\n",
    "samp_mean_2  =np.mean(right)\n",
    "samp_std_1 = np.std(left)\n",
    "samp_std_2 = np.mean(right)\n",
    "n1 = len(left)\n",
    "n2 = len(right)\n",
    "value=0\n",
    "denominator = np.sqrt((samp_std_1**2 / n1) + (samp_std_2**2 / n2))\n",
    "zscore = ((samp_mean_1 - samp_mean_2) - (value)) / denominator\n",
    "    \n",
    "zscore  \n"
   ]
  },
  {
   "cell_type": "code",
   "execution_count": 52,
   "id": "a5d9b848",
   "metadata": {},
   "outputs": [
    {
     "data": {
      "text/plain": [
       "1.0"
      ]
     },
     "execution_count": 52,
     "metadata": {},
     "output_type": "execute_result"
    }
   ],
   "source": [
    "p_value = stats.norm.cdf(zscore)\n",
    "p_value"
   ]
  },
  {
   "cell_type": "code",
   "execution_count": 53,
   "id": "f6b15a2f",
   "metadata": {},
   "outputs": [
    {
     "name": "stdout",
     "output_type": "stream",
     "text": [
      "fail to reject null\n"
     ]
    }
   ],
   "source": [
    "if p_value>0.05:\n",
    "    print('fail to reject null')\n",
    "else:\n",
    "    print('alternate accept')\n"
   ]
  },
  {
   "cell_type": "code",
   "execution_count": 54,
   "id": "b78df68f",
   "metadata": {},
   "outputs": [
    {
     "data": {
      "image/png": "[encoded data removed]",
      "text/plain": [
       "<Figure size 648x288 with 1 Axes>"
      ]
     },
     "metadata": {
      "needs_background": "light"
     },
     "output_type": "display_data"
    }
   ],
   "source": [
    "#graphical analysis\n",
    "\n",
    "plt.figure(figsize=(9,4))\n",
    "sns.barplot(x='Preferred Foot',y='Potential',data=df_fifa)\n",
    "plt.show()"
   ]
  },
  {
   "cell_type": "code",
   "execution_count": null,
   "id": "91341260",
   "metadata": {},
   "outputs": [],
   "source": [
    "d)Perform the statistical test to identify the relation between the overall rating and potential.\n",
    "[Assume both are continuous data points].\n",
    "\n"
   ]
  },
  {
   "cell_type": "code",
   "execution_count": null,
   "id": "215a0ac3",
   "metadata": {},
   "outputs": [],
   "source": [
    "#now data is both are continous so we can use pearson correlation\n",
    "#hypothesis\n",
    "#ho : there is no relation\n",
    "#ha : there is a relation"
   ]
  },
  {
   "cell_type": "code",
   "execution_count": 55,
   "id": "efe5aded",
   "metadata": {},
   "outputs": [
    {
     "name": "stdout",
     "output_type": "stream",
     "text": [
      "ShapiroResult(statistic=0.8525537848472595, pvalue=1.0221183102662362e-39)\n",
      "ShapiroResult(statistic=0.9384800791740417, pvalue=5.016414837142018e-28)\n"
     ]
    }
   ],
   "source": [
    "#checking normality\n",
    "\n",
    "pval_1=shapiro(df_fifa['Overall_rating'])\n",
    "print(pval_1)\n",
    "pval_2=shapiro(df_fifa['Potential'])\n",
    "print(pval_2)\n",
    "\n",
    "#data is not normal"
   ]
  },
  {
   "cell_type": "code",
   "execution_count": 56,
   "id": "926ce0e5",
   "metadata": {},
   "outputs": [
    {
     "name": "stdout",
     "output_type": "stream",
     "text": [
      "ShapiroResult(statistic=1.0, pvalue=1.0)\n"
     ]
    }
   ],
   "source": [
    "boxcox_over=stats.boxcox(df_fifa['Overall_rating'])[0]\n",
    "print(shapiro(boxcox_over))"
   ]
  },
  {
   "cell_type": "code",
   "execution_count": 57,
   "id": "d57f2d0d",
   "metadata": {},
   "outputs": [
    {
     "name": "stdout",
     "output_type": "stream",
     "text": [
      "ShapiroResult(statistic=1.0, pvalue=1.0)\n"
     ]
    }
   ],
   "source": [
    "box_pot=stats.boxcox(df_fifa['Potential'])[0]\n",
    "print(shapiro(box_pot))"
   ]
  },
  {
   "cell_type": "code",
   "execution_count": 60,
   "id": "87fcebcd",
   "metadata": {},
   "outputs": [
    {
     "data": {
      "text/plain": [
       "(0.7326945574179996, 0.0)"
      ]
     },
     "execution_count": 60,
     "metadata": {},
     "output_type": "execute_result"
    }
   ],
   "source": [
    "stats.pearsonr(df_fifa[\"Potential\"], df_fifa[\"Overall_rating\"])"
   ]
  },
  {
   "cell_type": "code",
   "execution_count": null,
   "id": "33f55de0",
   "metadata": {},
   "outputs": [],
   "source": [
    "p is less tha 0.05 so fail to reject null and accpet ha\n",
    "# there is a relationship"
   ]
  },
  {
   "cell_type": "code",
   "execution_count": 58,
   "id": "76568d41",
   "metadata": {},
   "outputs": [
    {
     "data": {
      "text/html": [
       "<div>\n",
       "<style scoped>\n",
       "    .dataframe tbody tr th:only-of-type {\n",
       "        vertical-align: middle;\n",
       "    }\n",
       "\n",
       "    .dataframe tbody tr th {\n",
       "        vertical-align: top;\n",
       "    }\n",
       "\n",
       "    .dataframe thead th {\n",
       "        text-align: right;\n",
       "    }\n",
       "</style>\n",
       "<table border=\"1\" class=\"dataframe\">\n",
       "  <thead>\n",
       "    <tr style=\"text-align: right;\">\n",
       "      <th></th>\n",
       "      <th>Overall_rating</th>\n",
       "      <th>Potential</th>\n",
       "    </tr>\n",
       "  </thead>\n",
       "  <tbody>\n",
       "    <tr>\n",
       "      <th>Overall_rating</th>\n",
       "      <td>1.000000</td>\n",
       "      <td>0.732695</td>\n",
       "    </tr>\n",
       "    <tr>\n",
       "      <th>Potential</th>\n",
       "      <td>0.732695</td>\n",
       "      <td>1.000000</td>\n",
       "    </tr>\n",
       "  </tbody>\n",
       "</table>\n",
       "</div>"
      ],
      "text/plain": [
       "                Overall_rating  Potential\n",
       "Overall_rating        1.000000   0.732695\n",
       "Potential             0.732695   1.000000"
      ]
     },
     "execution_count": 58,
     "metadata": {},
     "output_type": "execute_result"
    }
   ],
   "source": [
    "df_fifa[['Overall_rating','Potential']].corr()\n",
    "#there is strong positive correlation bw overall rating and potential"
   ]
  },
  {
   "cell_type": "code",
   "execution_count": 59,
   "id": "10af3df5",
   "metadata": {},
   "outputs": [
    {
     "data": {
      "image/png": "[encoded data removed]",
      "text/plain": [
       "<Figure size 648x288 with 1 Axes>"
      ]
     },
     "metadata": {
      "needs_background": "light"
     },
     "output_type": "display_data"
    }
   ],
   "source": [
    "plt.figure(figsize=(9,4))\n",
    "plt.scatter('Overall_rating','Potential',data=df_fifa)\n",
    "plt.show()"
   ]
  },
  {
   "cell_type": "code",
   "execution_count": null,
   "id": "23df7880",
   "metadata": {},
   "outputs": [],
   "source": [
    "e)Does skill move have any effect in overall rating. Perform the graphical analysis\n",
    "and the statistical analysis"
   ]
  },
  {
   "cell_type": "code",
   "execution_count": 61,
   "id": "b61be85f",
   "metadata": {},
   "outputs": [
    {
     "data": {
      "text/html": [
       "<div>\n",
       "<style scoped>\n",
       "    .dataframe tbody tr th:only-of-type {\n",
       "        vertical-align: middle;\n",
       "    }\n",
       "\n",
       "    .dataframe tbody tr th {\n",
       "        vertical-align: top;\n",
       "    }\n",
       "\n",
       "    .dataframe thead th {\n",
       "        text-align: right;\n",
       "    }\n",
       "</style>\n",
       "<table border=\"1\" class=\"dataframe\">\n",
       "  <thead>\n",
       "    <tr style=\"text-align: right;\">\n",
       "      <th></th>\n",
       "      <th>Name</th>\n",
       "      <th>Age</th>\n",
       "      <th>Nationality</th>\n",
       "      <th>Overall_rating</th>\n",
       "      <th>Potential</th>\n",
       "      <th>Club</th>\n",
       "      <th>Preferred Foot</th>\n",
       "      <th>International Reputation</th>\n",
       "      <th>Weak Foot</th>\n",
       "      <th>Skill Moves</th>\n",
       "      <th>Work Rate</th>\n",
       "      <th>Position</th>\n",
       "      <th>Jersey Number</th>\n",
       "      <th>Height</th>\n",
       "      <th>Weight</th>\n",
       "    </tr>\n",
       "  </thead>\n",
       "  <tbody>\n",
       "    <tr>\n",
       "      <th>0</th>\n",
       "      <td>L. Messi</td>\n",
       "      <td>31</td>\n",
       "      <td>Argentina</td>\n",
       "      <td>94</td>\n",
       "      <td>94</td>\n",
       "      <td>FC Barcelona</td>\n",
       "      <td>Left</td>\n",
       "      <td>5</td>\n",
       "      <td>4</td>\n",
       "      <td>4</td>\n",
       "      <td>Medium/ Medium</td>\n",
       "      <td>RF</td>\n",
       "      <td>10</td>\n",
       "      <td>5.583333</td>\n",
       "      <td>159</td>\n",
       "    </tr>\n",
       "  </tbody>\n",
       "</table>\n",
       "</div>"
      ],
      "text/plain": [
       "       Name  Age Nationality  Overall_rating  Potential          Club  \\\n",
       "0  L. Messi   31   Argentina              94         94  FC Barcelona   \n",
       "\n",
       "  Preferred Foot  International Reputation  Weak Foot  Skill Moves  \\\n",
       "0           Left                         5          4            4   \n",
       "\n",
       "        Work Rate Position  Jersey Number    Height  Weight  \n",
       "0  Medium/ Medium       RF             10  5.583333     159  "
      ]
     },
     "execution_count": 61,
     "metadata": {},
     "output_type": "execute_result"
    }
   ],
   "source": [
    "df_fifa.head(1)"
   ]
  },
  {
   "cell_type": "code",
   "execution_count": 63,
   "id": "37cf7c10",
   "metadata": {},
   "outputs": [
    {
     "data": {
      "text/plain": [
       "ShapiroResult(statistic=0.8525537848472595, pvalue=1.0221183102662362e-39)"
      ]
     },
     "execution_count": 63,
     "metadata": {},
     "output_type": "execute_result"
    }
   ],
   "source": [
    "#checking data['overall rating'] is normal\n",
    "shapiro(df_fifa['Overall_rating'])\n",
    "#data is not normal"
   ]
  },
  {
   "cell_type": "code",
   "execution_count": 64,
   "id": "ba5e025e",
   "metadata": {},
   "outputs": [
    {
     "data": {
      "text/plain": [
       "ShapiroResult(statistic=1.0, pvalue=1.0)"
      ]
     },
     "execution_count": 64,
     "metadata": {},
     "output_type": "execute_result"
    }
   ],
   "source": [
    "shapiro(boxcox_over)\n",
    "#data is normal"
   ]
  },
  {
   "cell_type": "code",
   "execution_count": 65,
   "id": "2fb22d04",
   "metadata": {},
   "outputs": [
    {
     "data": {
      "text/html": [
       "<div>\n",
       "<style scoped>\n",
       "    .dataframe tbody tr th:only-of-type {\n",
       "        vertical-align: middle;\n",
       "    }\n",
       "\n",
       "    .dataframe tbody tr th {\n",
       "        vertical-align: top;\n",
       "    }\n",
       "\n",
       "    .dataframe thead th {\n",
       "        text-align: right;\n",
       "    }\n",
       "</style>\n",
       "<table border=\"1\" class=\"dataframe\">\n",
       "  <thead>\n",
       "    <tr style=\"text-align: right;\">\n",
       "      <th></th>\n",
       "      <th>Age</th>\n",
       "      <th>Overall_rating</th>\n",
       "      <th>Potential</th>\n",
       "      <th>International Reputation</th>\n",
       "      <th>Weak Foot</th>\n",
       "      <th>Skill Moves</th>\n",
       "      <th>Jersey Number</th>\n",
       "      <th>Height</th>\n",
       "      <th>Weight</th>\n",
       "    </tr>\n",
       "  </thead>\n",
       "  <tbody>\n",
       "    <tr>\n",
       "      <th>Age</th>\n",
       "      <td>1.000000</td>\n",
       "      <td>0.063348</td>\n",
       "      <td>-0.511339</td>\n",
       "      <td>0.314808</td>\n",
       "      <td>-0.060940</td>\n",
       "      <td>-0.206624</td>\n",
       "      <td>-0.039370</td>\n",
       "      <td>0.065510</td>\n",
       "      <td>0.151674</td>\n",
       "    </tr>\n",
       "    <tr>\n",
       "      <th>Overall_rating</th>\n",
       "      <td>0.063348</td>\n",
       "      <td>1.000000</td>\n",
       "      <td>0.732695</td>\n",
       "      <td>0.661603</td>\n",
       "      <td>0.103579</td>\n",
       "      <td>0.081593</td>\n",
       "      <td>-0.094865</td>\n",
       "      <td>0.041815</td>\n",
       "      <td>0.055342</td>\n",
       "    </tr>\n",
       "    <tr>\n",
       "      <th>Potential</th>\n",
       "      <td>-0.511339</td>\n",
       "      <td>0.732695</td>\n",
       "      <td>1.000000</td>\n",
       "      <td>0.327717</td>\n",
       "      <td>0.099179</td>\n",
       "      <td>0.127366</td>\n",
       "      <td>-0.037827</td>\n",
       "      <td>0.030624</td>\n",
       "      <td>-0.017228</td>\n",
       "    </tr>\n",
       "    <tr>\n",
       "      <th>International Reputation</th>\n",
       "      <td>0.314808</td>\n",
       "      <td>0.661603</td>\n",
       "      <td>0.327717</td>\n",
       "      <td>1.000000</td>\n",
       "      <td>0.105748</td>\n",
       "      <td>0.088652</td>\n",
       "      <td>-0.032622</td>\n",
       "      <td>0.041700</td>\n",
       "      <td>0.071167</td>\n",
       "    </tr>\n",
       "    <tr>\n",
       "      <th>Weak Foot</th>\n",
       "      <td>-0.060940</td>\n",
       "      <td>0.103579</td>\n",
       "      <td>0.099179</td>\n",
       "      <td>0.105748</td>\n",
       "      <td>1.000000</td>\n",
       "      <td>0.342505</td>\n",
       "      <td>0.038840</td>\n",
       "      <td>-0.187942</td>\n",
       "      <td>-0.201137</td>\n",
       "    </tr>\n",
       "    <tr>\n",
       "      <th>Skill Moves</th>\n",
       "      <td>-0.206624</td>\n",
       "      <td>0.081593</td>\n",
       "      <td>0.127366</td>\n",
       "      <td>0.088652</td>\n",
       "      <td>0.342505</td>\n",
       "      <td>1.000000</td>\n",
       "      <td>0.065322</td>\n",
       "      <td>-0.472939</td>\n",
       "      <td>-0.528310</td>\n",
       "    </tr>\n",
       "    <tr>\n",
       "      <th>Jersey Number</th>\n",
       "      <td>-0.039370</td>\n",
       "      <td>-0.094865</td>\n",
       "      <td>-0.037827</td>\n",
       "      <td>-0.032622</td>\n",
       "      <td>0.038840</td>\n",
       "      <td>0.065322</td>\n",
       "      <td>1.000000</td>\n",
       "      <td>0.005081</td>\n",
       "      <td>-0.015377</td>\n",
       "    </tr>\n",
       "    <tr>\n",
       "      <th>Height</th>\n",
       "      <td>0.065510</td>\n",
       "      <td>0.041815</td>\n",
       "      <td>0.030624</td>\n",
       "      <td>0.041700</td>\n",
       "      <td>-0.187942</td>\n",
       "      <td>-0.472939</td>\n",
       "      <td>0.005081</td>\n",
       "      <td>1.000000</td>\n",
       "      <td>0.544016</td>\n",
       "    </tr>\n",
       "    <tr>\n",
       "      <th>Weight</th>\n",
       "      <td>0.151674</td>\n",
       "      <td>0.055342</td>\n",
       "      <td>-0.017228</td>\n",
       "      <td>0.071167</td>\n",
       "      <td>-0.201137</td>\n",
       "      <td>-0.528310</td>\n",
       "      <td>-0.015377</td>\n",
       "      <td>0.544016</td>\n",
       "      <td>1.000000</td>\n",
       "    </tr>\n",
       "  </tbody>\n",
       "</table>\n",
       "</div>"
      ],
      "text/plain": [
       "                               Age  Overall_rating  Potential  \\\n",
       "Age                       1.000000        0.063348  -0.511339   \n",
       "Overall_rating            0.063348        1.000000   0.732695   \n",
       "Potential                -0.511339        0.732695   1.000000   \n",
       "International Reputation  0.314808        0.661603   0.327717   \n",
       "Weak Foot                -0.060940        0.103579   0.099179   \n",
       "Skill Moves              -0.206624        0.081593   0.127366   \n",
       "Jersey Number            -0.039370       -0.094865  -0.037827   \n",
       "Height                    0.065510        0.041815   0.030624   \n",
       "Weight                    0.151674        0.055342  -0.017228   \n",
       "\n",
       "                          International Reputation  Weak Foot  Skill Moves  \\\n",
       "Age                                       0.314808  -0.060940    -0.206624   \n",
       "Overall_rating                            0.661603   0.103579     0.081593   \n",
       "Potential                                 0.327717   0.099179     0.127366   \n",
       "International Reputation                  1.000000   0.105748     0.088652   \n",
       "Weak Foot                                 0.105748   1.000000     0.342505   \n",
       "Skill Moves                               0.088652   0.342505     1.000000   \n",
       "Jersey Number                            -0.032622   0.038840     0.065322   \n",
       "Height                                    0.041700  -0.187942    -0.472939   \n",
       "Weight                                    0.071167  -0.201137    -0.528310   \n",
       "\n",
       "                          Jersey Number    Height    Weight  \n",
       "Age                           -0.039370  0.065510  0.151674  \n",
       "Overall_rating                -0.094865  0.041815  0.055342  \n",
       "Potential                     -0.037827  0.030624 -0.017228  \n",
       "International Reputation      -0.032622  0.041700  0.071167  \n",
       "Weak Foot                      0.038840 -0.187942 -0.201137  \n",
       "Skill Moves                    0.065322 -0.472939 -0.528310  \n",
       "Jersey Number                  1.000000  0.005081 -0.015377  \n",
       "Height                         0.005081  1.000000  0.544016  \n",
       "Weight                        -0.015377  0.544016  1.000000  "
      ]
     },
     "execution_count": 65,
     "metadata": {},
     "output_type": "execute_result"
    }
   ],
   "source": [
    "#pearson correlation\n",
    "#ho:skill move has no effect on overall rating\n",
    "#ha:skill move has effecton overall rating\n",
    "df_fifa.corr()"
   ]
  },
  {
   "cell_type": "code",
   "execution_count": 66,
   "id": "76265613",
   "metadata": {},
   "outputs": [
    {
     "data": {
      "text/plain": [
       "(0.08159348248403268, 0.0002594145569635645)"
      ]
     },
     "execution_count": 66,
     "metadata": {},
     "output_type": "execute_result"
    }
   ],
   "source": [
    "stats.pearsonr(df_fifa['Overall_rating'],df_fifa['Skill Moves'])"
   ]
  },
  {
   "cell_type": "code",
   "execution_count": null,
   "id": "4f1876c6",
   "metadata": {},
   "outputs": [],
   "source": []
  },
  {
   "cell_type": "code",
   "execution_count": 67,
   "id": "3125f0d1",
   "metadata": {},
   "outputs": [
    {
     "data": {
      "image/png": "[encoded data removed]",
      "text/plain": [
       "<Figure size 648x288 with 1 Axes>"
      ]
     },
     "metadata": {
      "needs_background": "light"
     },
     "output_type": "display_data"
    }
   ],
   "source": [
    "plt.figure(figsize=(9,4))\n",
    "plt.scatter(x=df_fifa['Skill Moves'],y=df_fifa['Overall_rating'])\n",
    "plt.xlabel('skill moves')\n",
    "plt.ylabel('overall_rating')\n",
    "plt.show()\n",
    "#we accept ha\n",
    "#skill moves is constant but overall rating is increasing"
   ]
  },
  {
   "cell_type": "markdown",
   "id": "28d60d0a",
   "metadata": {},
   "source": [
    "# b)"
   ]
  },
  {
   "cell_type": "code",
   "execution_count": 107,
   "id": "53d60b47",
   "metadata": {},
   "outputs": [
    {
     "data": {
      "text/html": [
       "<div>\n",
       "<style scoped>\n",
       "    .dataframe tbody tr th:only-of-type {\n",
       "        vertical-align: middle;\n",
       "    }\n",
       "\n",
       "    .dataframe tbody tr th {\n",
       "        vertical-align: top;\n",
       "    }\n",
       "\n",
       "    .dataframe thead th {\n",
       "        text-align: right;\n",
       "    }\n",
       "</style>\n",
       "<table border=\"1\" class=\"dataframe\">\n",
       "  <thead>\n",
       "    <tr style=\"text-align: right;\">\n",
       "      <th></th>\n",
       "      <th>date</th>\n",
       "      <th>duration</th>\n",
       "      <th>item</th>\n",
       "      <th>month</th>\n",
       "      <th>network</th>\n",
       "      <th>network_type</th>\n",
       "    </tr>\n",
       "  </thead>\n",
       "  <tbody>\n",
       "    <tr>\n",
       "      <th>0</th>\n",
       "      <td>15-10-14 6:58</td>\n",
       "      <td>221.321120</td>\n",
       "      <td>data</td>\n",
       "      <td>2014-11</td>\n",
       "      <td>data</td>\n",
       "      <td>data</td>\n",
       "    </tr>\n",
       "    <tr>\n",
       "      <th>1</th>\n",
       "      <td>15-10-14 6:58</td>\n",
       "      <td>81.610599</td>\n",
       "      <td>call</td>\n",
       "      <td>2014-11</td>\n",
       "      <td>Vodafone</td>\n",
       "      <td>mobile</td>\n",
       "    </tr>\n",
       "    <tr>\n",
       "      <th>2</th>\n",
       "      <td>15-10-14 14:46</td>\n",
       "      <td>143.109111</td>\n",
       "      <td>call</td>\n",
       "      <td>2014-11</td>\n",
       "      <td>Meteor</td>\n",
       "      <td>mobile</td>\n",
       "    </tr>\n",
       "    <tr>\n",
       "      <th>3</th>\n",
       "      <td>15-10-14 14:48</td>\n",
       "      <td>111.888670</td>\n",
       "      <td>call</td>\n",
       "      <td>2014-11</td>\n",
       "      <td>Tesco</td>\n",
       "      <td>mobile</td>\n",
       "    </tr>\n",
       "    <tr>\n",
       "      <th>4</th>\n",
       "      <td>15-10-14 17:27</td>\n",
       "      <td>246.695171</td>\n",
       "      <td>call</td>\n",
       "      <td>2014-11</td>\n",
       "      <td>Tesco</td>\n",
       "      <td>mobile</td>\n",
       "    </tr>\n",
       "  </tbody>\n",
       "</table>\n",
       "</div>"
      ],
      "text/plain": [
       "             date    duration  item    month   network network_type\n",
       "0   15-10-14 6:58  221.321120  data  2014-11      data         data\n",
       "1   15-10-14 6:58   81.610599  call  2014-11  Vodafone       mobile\n",
       "2  15-10-14 14:46  143.109111  call  2014-11    Meteor       mobile\n",
       "3  15-10-14 14:48  111.888670  call  2014-11     Tesco       mobile\n",
       "4  15-10-14 17:27  246.695171  call  2014-11     Tesco       mobile"
      ]
     },
     "execution_count": 107,
     "metadata": {},
     "output_type": "execute_result"
    }
   ],
   "source": [
    "df_phone=pd.read_csv('phone.csv')\n",
    "df_phone.head()\n"
   ]
  },
  {
   "cell_type": "code",
   "execution_count": 108,
   "id": "6977729c",
   "metadata": {},
   "outputs": [
    {
     "data": {
      "text/plain": [
       "date             object\n",
       "duration        float64\n",
       "item             object\n",
       "month            object\n",
       "network          object\n",
       "network_type     object\n",
       "dtype: object"
      ]
     },
     "execution_count": 108,
     "metadata": {},
     "output_type": "execute_result"
    }
   ],
   "source": [
    "df_phone.dtypes"
   ]
  },
  {
   "cell_type": "code",
   "execution_count": 109,
   "id": "14c7a321",
   "metadata": {},
   "outputs": [
    {
     "data": {
      "text/plain": [
       "date            0\n",
       "duration        0\n",
       "item            0\n",
       "month           0\n",
       "network         0\n",
       "network_type    0\n",
       "dtype: int64"
      ]
     },
     "execution_count": 109,
     "metadata": {},
     "output_type": "execute_result"
    }
   ],
   "source": [
    "df_phone.isnull().sum()"
   ]
  },
  {
   "cell_type": "code",
   "execution_count": 110,
   "id": "14f70bae",
   "metadata": {},
   "outputs": [
    {
     "data": {
      "text/html": [
       "<div>\n",
       "<style scoped>\n",
       "    .dataframe tbody tr th:only-of-type {\n",
       "        vertical-align: middle;\n",
       "    }\n",
       "\n",
       "    .dataframe tbody tr th {\n",
       "        vertical-align: top;\n",
       "    }\n",
       "\n",
       "    .dataframe thead th {\n",
       "        text-align: right;\n",
       "    }\n",
       "</style>\n",
       "<table border=\"1\" class=\"dataframe\">\n",
       "  <thead>\n",
       "    <tr style=\"text-align: right;\">\n",
       "      <th></th>\n",
       "      <th>duration</th>\n",
       "    </tr>\n",
       "  </thead>\n",
       "  <tbody>\n",
       "    <tr>\n",
       "      <th>count</th>\n",
       "      <td>820.000000</td>\n",
       "    </tr>\n",
       "    <tr>\n",
       "      <th>mean</th>\n",
       "      <td>144.304936</td>\n",
       "    </tr>\n",
       "    <tr>\n",
       "      <th>std</th>\n",
       "      <td>45.687777</td>\n",
       "    </tr>\n",
       "    <tr>\n",
       "      <th>min</th>\n",
       "      <td>0.993514</td>\n",
       "    </tr>\n",
       "    <tr>\n",
       "      <th>25%</th>\n",
       "      <td>112.916486</td>\n",
       "    </tr>\n",
       "    <tr>\n",
       "      <th>50%</th>\n",
       "      <td>144.179434</td>\n",
       "    </tr>\n",
       "    <tr>\n",
       "      <th>75%</th>\n",
       "      <td>175.932308</td>\n",
       "    </tr>\n",
       "    <tr>\n",
       "      <th>max</th>\n",
       "      <td>268.458090</td>\n",
       "    </tr>\n",
       "  </tbody>\n",
       "</table>\n",
       "</div>"
      ],
      "text/plain": [
       "         duration\n",
       "count  820.000000\n",
       "mean   144.304936\n",
       "std     45.687777\n",
       "min      0.993514\n",
       "25%    112.916486\n",
       "50%    144.179434\n",
       "75%    175.932308\n",
       "max    268.458090"
      ]
     },
     "execution_count": 110,
     "metadata": {},
     "output_type": "execute_result"
    }
   ],
   "source": [
    "df_phone.describe()"
   ]
  },
  {
   "cell_type": "code",
   "execution_count": 111,
   "id": "bcb7baf2",
   "metadata": {},
   "outputs": [
    {
     "data": {
      "text/html": [
       "<div>\n",
       "<style scoped>\n",
       "    .dataframe tbody tr th:only-of-type {\n",
       "        vertical-align: middle;\n",
       "    }\n",
       "\n",
       "    .dataframe tbody tr th {\n",
       "        vertical-align: top;\n",
       "    }\n",
       "\n",
       "    .dataframe thead th {\n",
       "        text-align: right;\n",
       "    }\n",
       "</style>\n",
       "<table border=\"1\" class=\"dataframe\">\n",
       "  <thead>\n",
       "    <tr style=\"text-align: right;\">\n",
       "      <th></th>\n",
       "      <th>date</th>\n",
       "      <th>item</th>\n",
       "      <th>month</th>\n",
       "      <th>network</th>\n",
       "      <th>network_type</th>\n",
       "    </tr>\n",
       "  </thead>\n",
       "  <tbody>\n",
       "    <tr>\n",
       "      <th>count</th>\n",
       "      <td>820</td>\n",
       "      <td>820</td>\n",
       "      <td>820</td>\n",
       "      <td>820</td>\n",
       "      <td>820</td>\n",
       "    </tr>\n",
       "    <tr>\n",
       "      <th>unique</th>\n",
       "      <td>738</td>\n",
       "      <td>3</td>\n",
       "      <td>5</td>\n",
       "      <td>7</td>\n",
       "      <td>4</td>\n",
       "    </tr>\n",
       "    <tr>\n",
       "      <th>top</th>\n",
       "      <td>16-01-15 18:07</td>\n",
       "      <td>call</td>\n",
       "      <td>2014-11</td>\n",
       "      <td>Vodafone</td>\n",
       "      <td>mobile</td>\n",
       "    </tr>\n",
       "    <tr>\n",
       "      <th>freq</th>\n",
       "      <td>6</td>\n",
       "      <td>388</td>\n",
       "      <td>229</td>\n",
       "      <td>215</td>\n",
       "      <td>601</td>\n",
       "    </tr>\n",
       "  </tbody>\n",
       "</table>\n",
       "</div>"
      ],
      "text/plain": [
       "                  date  item    month   network network_type\n",
       "count              820   820      820       820          820\n",
       "unique             738     3        5         7            4\n",
       "top     16-01-15 18:07  call  2014-11  Vodafone       mobile\n",
       "freq                 6   388      229       215          601"
      ]
     },
     "execution_count": 111,
     "metadata": {},
     "output_type": "execute_result"
    }
   ],
   "source": [
    "df_phone.describe(include='object')"
   ]
  },
  {
   "cell_type": "markdown",
   "id": "b5818f19",
   "metadata": {},
   "source": [
    "# Non standard missing values"
   ]
  },
  {
   "cell_type": "code",
   "execution_count": 112,
   "id": "85c96363",
   "metadata": {},
   "outputs": [
    {
     "data": {
      "text/plain": [
       "False"
      ]
     },
     "execution_count": 112,
     "metadata": {},
     "output_type": "execute_result"
    }
   ],
   "source": [
    "df_phone.isnull().values.any()"
   ]
  },
  {
   "cell_type": "code",
   "execution_count": 113,
   "id": "1f74cabd",
   "metadata": {},
   "outputs": [
    {
     "data": {
      "image/png": "[encoded data removed]",
      "text/plain": [
       "<Figure size 504x288 with 1 Axes>"
      ]
     },
     "metadata": {
      "needs_background": "light"
     },
     "output_type": "display_data"
    }
   ],
   "source": [
    "plt.figure(figsize=(7,4))\n",
    "sns.heatmap(df_phone.isnull(),cbar = False)\n",
    "plt.show()"
   ]
  },
  {
   "cell_type": "code",
   "execution_count": 114,
   "id": "fe57b90f",
   "metadata": {},
   "outputs": [
    {
     "data": {
      "text/html": [
       "<div>\n",
       "<style scoped>\n",
       "    .dataframe tbody tr th:only-of-type {\n",
       "        vertical-align: middle;\n",
       "    }\n",
       "\n",
       "    .dataframe tbody tr th {\n",
       "        vertical-align: top;\n",
       "    }\n",
       "\n",
       "    .dataframe thead th {\n",
       "        text-align: right;\n",
       "    }\n",
       "</style>\n",
       "<table border=\"1\" class=\"dataframe\">\n",
       "  <thead>\n",
       "    <tr style=\"text-align: right;\">\n",
       "      <th></th>\n",
       "      <th>duration</th>\n",
       "    </tr>\n",
       "  </thead>\n",
       "  <tbody>\n",
       "    <tr>\n",
       "      <th>0</th>\n",
       "      <td>221.321120</td>\n",
       "    </tr>\n",
       "    <tr>\n",
       "      <th>1</th>\n",
       "      <td>81.610599</td>\n",
       "    </tr>\n",
       "    <tr>\n",
       "      <th>2</th>\n",
       "      <td>143.109111</td>\n",
       "    </tr>\n",
       "    <tr>\n",
       "      <th>3</th>\n",
       "      <td>111.888670</td>\n",
       "    </tr>\n",
       "    <tr>\n",
       "      <th>4</th>\n",
       "      <td>246.695171</td>\n",
       "    </tr>\n",
       "  </tbody>\n",
       "</table>\n",
       "</div>"
      ],
      "text/plain": [
       "     duration\n",
       "0  221.321120\n",
       "1   81.610599\n",
       "2  143.109111\n",
       "3  111.888670\n",
       "4  246.695171"
      ]
     },
     "execution_count": 114,
     "metadata": {},
     "output_type": "execute_result"
    }
   ],
   "source": [
    "df_n=df_phone.select_dtypes(include=np.number)\n",
    "df_n.head()"
   ]
  },
  {
   "cell_type": "code",
   "execution_count": 115,
   "id": "478d7e42",
   "metadata": {},
   "outputs": [
    {
     "data": {
      "text/html": [
       "<div>\n",
       "<style scoped>\n",
       "    .dataframe tbody tr th:only-of-type {\n",
       "        vertical-align: middle;\n",
       "    }\n",
       "\n",
       "    .dataframe tbody tr th {\n",
       "        vertical-align: top;\n",
       "    }\n",
       "\n",
       "    .dataframe thead th {\n",
       "        text-align: right;\n",
       "    }\n",
       "</style>\n",
       "<table border=\"1\" class=\"dataframe\">\n",
       "  <thead>\n",
       "    <tr style=\"text-align: right;\">\n",
       "      <th></th>\n",
       "      <th>date</th>\n",
       "      <th>item</th>\n",
       "      <th>month</th>\n",
       "      <th>network</th>\n",
       "      <th>network_type</th>\n",
       "    </tr>\n",
       "  </thead>\n",
       "  <tbody>\n",
       "    <tr>\n",
       "      <th>0</th>\n",
       "      <td>15-10-14 6:58</td>\n",
       "      <td>data</td>\n",
       "      <td>2014-11</td>\n",
       "      <td>data</td>\n",
       "      <td>data</td>\n",
       "    </tr>\n",
       "    <tr>\n",
       "      <th>1</th>\n",
       "      <td>15-10-14 6:58</td>\n",
       "      <td>call</td>\n",
       "      <td>2014-11</td>\n",
       "      <td>Vodafone</td>\n",
       "      <td>mobile</td>\n",
       "    </tr>\n",
       "    <tr>\n",
       "      <th>2</th>\n",
       "      <td>15-10-14 14:46</td>\n",
       "      <td>call</td>\n",
       "      <td>2014-11</td>\n",
       "      <td>Meteor</td>\n",
       "      <td>mobile</td>\n",
       "    </tr>\n",
       "    <tr>\n",
       "      <th>3</th>\n",
       "      <td>15-10-14 14:48</td>\n",
       "      <td>call</td>\n",
       "      <td>2014-11</td>\n",
       "      <td>Tesco</td>\n",
       "      <td>mobile</td>\n",
       "    </tr>\n",
       "    <tr>\n",
       "      <th>4</th>\n",
       "      <td>15-10-14 17:27</td>\n",
       "      <td>call</td>\n",
       "      <td>2014-11</td>\n",
       "      <td>Tesco</td>\n",
       "      <td>mobile</td>\n",
       "    </tr>\n",
       "  </tbody>\n",
       "</table>\n",
       "</div>"
      ],
      "text/plain": [
       "             date  item    month   network network_type\n",
       "0   15-10-14 6:58  data  2014-11      data         data\n",
       "1   15-10-14 6:58  call  2014-11  Vodafone       mobile\n",
       "2  15-10-14 14:46  call  2014-11    Meteor       mobile\n",
       "3  15-10-14 14:48  call  2014-11     Tesco       mobile\n",
       "4  15-10-14 17:27  call  2014-11     Tesco       mobile"
      ]
     },
     "execution_count": 115,
     "metadata": {},
     "output_type": "execute_result"
    }
   ],
   "source": [
    "df_o=df_phone.select_dtypes(include='object')\n",
    "df_o.head()"
   ]
  },
  {
   "cell_type": "code",
   "execution_count": 116,
   "id": "57e2bba0",
   "metadata": {},
   "outputs": [
    {
     "data": {
      "text/html": [
       "<div>\n",
       "<style scoped>\n",
       "    .dataframe tbody tr th:only-of-type {\n",
       "        vertical-align: middle;\n",
       "    }\n",
       "\n",
       "    .dataframe tbody tr th {\n",
       "        vertical-align: top;\n",
       "    }\n",
       "\n",
       "    .dataframe thead th {\n",
       "        text-align: right;\n",
       "    }\n",
       "</style>\n",
       "<table border=\"1\" class=\"dataframe\">\n",
       "  <thead>\n",
       "    <tr style=\"text-align: right;\">\n",
       "      <th></th>\n",
       "      <th>date</th>\n",
       "      <th>item</th>\n",
       "      <th>month</th>\n",
       "      <th>network</th>\n",
       "      <th>network_type</th>\n",
       "    </tr>\n",
       "  </thead>\n",
       "  <tbody>\n",
       "    <tr>\n",
       "      <th>count</th>\n",
       "      <td>820</td>\n",
       "      <td>820</td>\n",
       "      <td>820</td>\n",
       "      <td>820</td>\n",
       "      <td>820</td>\n",
       "    </tr>\n",
       "    <tr>\n",
       "      <th>unique</th>\n",
       "      <td>738</td>\n",
       "      <td>3</td>\n",
       "      <td>5</td>\n",
       "      <td>7</td>\n",
       "      <td>4</td>\n",
       "    </tr>\n",
       "    <tr>\n",
       "      <th>top</th>\n",
       "      <td>16-01-15 18:07</td>\n",
       "      <td>call</td>\n",
       "      <td>2014-11</td>\n",
       "      <td>Vodafone</td>\n",
       "      <td>mobile</td>\n",
       "    </tr>\n",
       "    <tr>\n",
       "      <th>freq</th>\n",
       "      <td>6</td>\n",
       "      <td>388</td>\n",
       "      <td>229</td>\n",
       "      <td>215</td>\n",
       "      <td>601</td>\n",
       "    </tr>\n",
       "  </tbody>\n",
       "</table>\n",
       "</div>"
      ],
      "text/plain": [
       "                  date  item    month   network network_type\n",
       "count              820   820      820       820          820\n",
       "unique             738     3        5         7            4\n",
       "top     16-01-15 18:07  call  2014-11  Vodafone       mobile\n",
       "freq                 6   388      229       215          601"
      ]
     },
     "execution_count": 116,
     "metadata": {},
     "output_type": "execute_result"
    }
   ],
   "source": [
    "df_phone.describe(include='object')"
   ]
  },
  {
   "cell_type": "code",
   "execution_count": 117,
   "id": "0e22e845",
   "metadata": {},
   "outputs": [
    {
     "name": "stdout",
     "output_type": "stream",
     "text": [
      "['15-10-14 6:58' '15-10-14 14:46' '15-10-14 14:48' '15-10-14 17:27'\n",
      " '15-10-14 18:55' '16-10-14 6:58' '16-10-14 15:01' '16-10-14 15:12'\n",
      " '16-10-14 15:30' '16-10-14 16:21' '16-10-14 22:18' '16-10-14 22:21'\n",
      " '17-10-14 6:58' '17-10-14 10:53' '17-10-14 11:19' '17-10-14 11:20'\n",
      " '17-10-14 17:22' '17-10-14 17:23' '17-10-14 17:26' '17-10-14 17:29'\n",
      " '17-10-14 17:30' '17-10-14 17:42' '17-10-14 17:44' '18-10-14 6:58'\n",
      " '18-10-14 11:51' '18-10-14 12:06' '18-10-14 13:08' '18-10-14 13:10'\n",
      " '18-10-14 14:01' '18-10-14 18:52' '18-10-14 20:44' '18-10-14 21:04'\n",
      " '18-10-14 21:06' '18-10-14 21:23' '18-10-14 22:37' '19-10-14 6:58'\n",
      " '19-10-14 14:47' '19-10-14 15:46' '19-10-14 16:21' '19-10-14 16:30'\n",
      " '19-10-14 20:25' '20-10-14 6:58' '20-10-14 9:43' '20-10-14 13:55'\n",
      " '20-10-14 13:56' '20-10-14 18:14' '20-10-14 18:24' '20-10-14 19:59'\n",
      " '20-10-14 20:16' '21-10-14 6:58' '21-10-14 16:17' '22-10-14 6:58'\n",
      " '22-10-14 12:04' '23-10-14 6:58' '23-10-14 8:34' '23-10-14 9:45'\n",
      " '23-10-14 10:46' '23-10-14 10:54' '23-10-14 11:17' '23-10-14 11:25'\n",
      " '23-10-14 17:48' '24-10-14 6:58' '24-10-14 13:35' '24-10-14 13:39'\n",
      " '24-10-14 13:47' '24-10-14 13:48' '24-10-14 13:50' '24-10-14 13:57'\n",
      " '24-10-14 14:20' '24-10-14 14:27' '24-10-14 18:29' '24-10-14 18:33'\n",
      " '24-10-14 18:40' '25-10-14 6:58' '26-10-14 6:58' '26-10-14 14:51'\n",
      " '26-10-14 21:10' '26-10-14 21:22' '26-10-14 21:38' '27-10-14 1:45'\n",
      " '27-10-14 6:58' '27-10-14 11:03' '27-10-14 16:30' '27-10-14 19:20'\n",
      " '27-10-14 19:55' '28-10-14 6:58' '28-10-14 16:39' '28-10-14 20:44'\n",
      " '29-10-14 6:58' '29-10-14 12:56' '30-10-14 6:58' '30-10-14 14:31'\n",
      " '30-10-14 19:48' '30-10-14 20:02' '31-10-14 6:58' '31-10-14 7:46'\n",
      " '31-10-14 8:00' '31-10-14 13:26' '31-10-14 13:27' '31-10-14 14:10'\n",
      " '31-10-14 18:29' '31-10-14 18:30' '31-10-14 18:39' '01-11-14 6:58'\n",
      " '01-11-14 15:13' '01-11-14 17:54' '02-11-14 6:58' '02-11-14 14:34'\n",
      " '02-11-14 15:44' '02-11-14 19:16' '02-11-14 21:42' '02-11-14 22:55'\n",
      " '03-11-14 6:58' '03-11-14 10:30' '03-11-14 10:37' '03-11-14 10:47'\n",
      " '03-11-14 14:04' '03-11-14 15:27' '03-11-14 16:07' '03-11-14 16:10'\n",
      " '03-11-14 17:03' '03-11-14 22:36' '04-11-14 6:58' '04-11-14 11:58'\n",
      " '04-11-14 13:12' '04-11-14 14:05' '04-11-14 14:26' '04-11-14 16:13'\n",
      " '04-11-14 16:19' '04-11-14 16:22' '04-11-14 16:24' '04-11-14 16:34'\n",
      " '04-11-14 16:39' '04-11-14 16:41' '04-11-14 16:45' '04-11-14 18:26'\n",
      " '04-11-14 20:15' '04-11-14 20:16' '05-11-14 6:58' '05-11-14 10:59'\n",
      " '05-11-14 11:30' '05-11-14 11:43' '05-11-14 12:43' '05-11-14 19:35'\n",
      " '06-11-14 1:02' '06-11-14 6:58' '06-11-14 9:04' '06-11-14 9:05'\n",
      " '06-11-14 9:47' '06-11-14 9:50' '06-11-14 9:52' '06-11-14 9:54'\n",
      " '06-11-14 11:47' '06-11-14 14:52' '06-11-14 18:02' '06-11-14 18:07'\n",
      " '07-11-14 6:58' '07-11-14 9:33' '07-11-14 17:51' '07-11-14 21:04'\n",
      " '07-11-14 21:10' '07-11-14 21:12' '07-11-14 21:19' '07-11-14 21:25'\n",
      " '07-11-14 21:31' '07-11-14 22:04' '08-11-14 6:58' '08-11-14 16:33'\n",
      " '08-11-14 18:18' '09-11-14 1:41' '09-11-14 1:49' '09-11-14 1:50'\n",
      " '09-11-14 2:04' '09-11-14 6:58' '09-11-14 19:21' '09-11-14 22:09'\n",
      " '10-11-14 6:58' '10-11-14 9:29' '10-11-14 11:36' '10-11-14 14:59'\n",
      " '10-11-14 15:15' '10-11-14 18:19' '10-11-14 18:34' '11-11-14 6:58'\n",
      " '11-11-14 9:28' '11-11-14 11:32' '11-11-14 11:37' '11-11-14 12:39'\n",
      " '11-11-14 14:13' '11-11-14 14:20' '11-11-14 14:41' '11-11-14 19:56'\n",
      " '12-11-14 6:58' '12-11-14 10:48' '12-11-14 10:49' '12-11-14 12:04'\n",
      " '12-11-14 13:49' '12-11-14 16:16' '12-11-14 16:19' '12-11-14 16:42'\n",
      " '12-11-14 17:14' '12-11-14 17:49' '12-11-14 17:56' '12-11-14 17:59'\n",
      " '12-11-14 19:01' '12-11-14 19:18' '12-11-14 19:20' '13-11-14 6:58'\n",
      " '13-11-14 22:30' '13-11-14 22:31' '14-11-14 6:58' '14-11-14 17:24'\n",
      " '14-11-14 17:28' '15-11-14 6:58' '16-11-14 6:58' '16-11-14 14:05'\n",
      " '17-11-14 6:58' '18-11-14 6:58' '18-11-14 8:22' '18-11-14 8:29'\n",
      " '18-11-14 8:33' '18-11-14 8:34' '18-11-14 8:39' '18-11-14 8:42'\n",
      " '18-11-14 8:45' '18-11-14 9:35' '19-11-14 6:58' '19-11-14 14:05'\n",
      " '19-11-14 14:11' '19-11-14 18:56' '19-11-14 22:48' '20-11-14 6:58'\n",
      " '20-11-14 14:57' '20-11-14 14:59' '20-11-14 16:22' '20-11-14 19:08'\n",
      " '20-11-14 21:03' '21-11-14 0:17' '21-11-14 1:13' '21-11-14 6:58'\n",
      " '21-11-14 10:29' '21-11-14 10:30' '21-11-14 11:29' '21-11-14 11:31'\n",
      " '21-11-14 11:49' '21-11-14 11:50' '21-11-14 13:31' '21-11-14 18:07'\n",
      " '22-11-14 2:10' '22-11-14 6:58' '22-11-14 12:02' '22-11-14 12:10'\n",
      " '22-11-14 14:30' '22-11-14 14:33' '22-11-14 14:34' '23-11-14 6:58'\n",
      " '23-11-14 13:24' '23-11-14 16:10' '23-11-14 17:36' '23-11-14 17:53'\n",
      " '23-11-14 17:54' '24-11-14 6:58' '24-11-14 9:40' '24-11-14 12:24'\n",
      " '25-11-14 6:58' '25-11-14 11:25' '25-11-14 16:09' '25-11-14 16:19'\n",
      " '25-11-14 17:10' '25-11-14 18:06' '25-11-14 18:18' '25-11-14 18:47'\n",
      " '25-11-14 19:10' '25-11-14 19:20' '25-11-14 19:21' '25-11-14 19:25'\n",
      " '25-11-14 19:26' '25-11-14 20:39' '26-11-14 6:58' '26-11-14 7:03'\n",
      " '26-11-14 7:15' '26-11-14 7:57' '26-11-14 7:59' '26-11-14 8:00'\n",
      " '26-11-14 8:13' '26-11-14 8:16' '26-11-14 8:26' '26-11-14 8:27'\n",
      " '26-11-14 9:01' '26-11-14 11:53' '26-11-14 11:54' '26-11-14 11:56'\n",
      " '26-11-14 17:48' '27-11-14 6:58' '27-11-14 16:53' '27-11-14 18:38'\n",
      " '28-11-14 6:58' '28-11-14 13:05' '28-11-14 13:12' '28-11-14 19:03'\n",
      " '29-11-14 6:58' '29-11-14 14:44' '30-11-14 6:58' '30-11-14 11:45'\n",
      " '30-11-14 11:48' '30-11-14 12:06' '30-11-14 14:24' '30-11-14 14:44'\n",
      " '30-11-14 14:51' '01-12-14 6:58' '01-12-14 12:51' '01-12-14 12:59'\n",
      " '02-12-14 6:58' '02-12-14 11:40' '03-12-14 6:58' '03-12-14 15:01'\n",
      " '03-12-14 18:10' '04-12-14 6:58' '04-12-14 13:52' '04-12-14 15:34'\n",
      " '04-12-14 16:02' '04-12-14 23:41' '05-12-14 6:58' '05-12-14 16:49'\n",
      " '05-12-14 18:17' '05-12-14 18:25' '06-12-14 6:58' '06-12-14 11:33'\n",
      " '06-12-14 18:25' '06-12-14 18:26' '06-12-14 19:40' '07-12-14 6:58'\n",
      " '07-12-14 13:03' '07-12-14 13:45' '07-12-14 14:39' '07-12-14 20:23'\n",
      " '07-12-14 20:36' '07-12-14 20:37' '08-12-14 6:58' '08-12-14 17:38'\n",
      " '09-12-14 6:58' '09-12-14 18:32' '10-12-14 6:58' '11-12-14 6:58'\n",
      " '12-12-14 6:58' '12-12-14 11:00' '12-12-14 18:14' '13-12-14 6:58'\n",
      " '13-12-14 14:56' '14-12-14 2:05' '14-12-14 2:07' '14-12-14 2:09'\n",
      " '14-12-14 6:58' '14-12-14 15:28' '14-12-14 19:54' '15-12-14 6:58'\n",
      " '15-12-14 19:56' '15-12-14 19:58' '15-12-14 20:03' '15-12-14 20:10'\n",
      " '15-12-14 23:12' '16-12-14 6:58' '17-12-14 6:58' '17-12-14 18:08'\n",
      " '17-12-14 23:26' '18-12-14 6:58' '18-12-14 12:36' '18-12-14 15:46'\n",
      " '18-12-14 15:57' '18-12-14 16:10' '18-12-14 17:54' '18-12-14 19:05'\n",
      " '18-12-14 21:58' '18-12-14 21:59' '19-12-14 6:58' '19-12-14 8:57'\n",
      " '19-12-14 10:14' '19-12-14 12:40' '19-12-14 12:41' '19-12-14 14:48'\n",
      " '19-12-14 16:49' '19-12-14 16:51' '19-12-14 17:00' '19-12-14 18:44'\n",
      " '20-12-14 6:58' '20-12-14 14:39' '20-12-14 15:20' '20-12-14 15:53'\n",
      " '20-12-14 16:09' '21-12-14 0:05' '21-12-14 6:58' '22-12-14 6:58'\n",
      " '22-12-14 10:42' '22-12-14 11:22' '22-12-14 13:33' '22-12-14 14:09'\n",
      " '22-12-14 14:15' '22-12-14 18:03' '22-12-14 19:10' '22-12-14 19:12'\n",
      " '22-12-14 19:35' '22-12-14 19:36' '22-12-14 23:12' '23-12-14 0:57'\n",
      " '23-12-14 6:58' '23-12-14 9:17' '23-12-14 11:03' '23-12-14 12:49'\n",
      " '23-12-14 15:39' '23-12-14 15:40' '23-12-14 15:43' '23-12-14 19:45'\n",
      " '23-12-14 20:02' '23-12-14 21:06' '24-12-14 6:58' '24-12-14 13:22'\n",
      " '24-12-14 13:29' '24-12-14 13:56' '24-12-14 17:06' '24-12-14 17:07'\n",
      " '24-12-14 18:44' '24-12-14 20:44' '24-12-14 23:34' '25-12-14 6:58'\n",
      " '25-12-14 12:27' '26-12-14 6:58' '26-12-14 11:09' '26-12-14 11:48'\n",
      " '27-12-14 6:58' '27-12-14 22:30' '28-12-14 6:58' '29-12-14 6:58'\n",
      " '29-12-14 12:09' '30-12-14 6:58' '30-12-14 11:57' '30-12-14 12:01'\n",
      " '30-12-14 12:02' '30-12-14 12:03' '30-12-14 12:04' '30-12-14 12:05'\n",
      " '30-12-14 12:06' '30-12-14 12:10' '30-12-14 12:13' '30-12-14 12:14'\n",
      " '31-12-14 6:58' '31-12-14 13:00' '31-12-14 13:03' '31-12-14 13:49'\n",
      " '31-12-14 23:05' '31-12-14 23:37' '01-01-15 6:58' '02-01-15 6:58'\n",
      " '02-01-15 11:27' '02-01-15 23:26' '02-01-15 23:28' '03-01-15 6:58'\n",
      " '03-01-15 12:01' '04-01-15 0:57' '04-01-15 6:58' '04-01-15 14:20'\n",
      " '04-01-15 14:31' '04-01-15 14:32' '05-01-15 6:58' '05-01-15 9:49'\n",
      " '05-01-15 9:51' '05-01-15 10:10' '05-01-15 10:25' '05-01-15 10:52'\n",
      " '05-01-15 10:56' '05-01-15 11:58' '05-01-15 14:29' '05-01-15 16:41'\n",
      " '05-01-15 17:22' '05-01-15 20:23' '06-01-15 6:58' '06-01-15 9:04'\n",
      " '06-01-15 13:28' '06-01-15 13:29' '06-01-15 13:55' '06-01-15 19:17'\n",
      " '06-01-15 20:40' '07-01-15 6:58' '07-01-15 9:28' '07-01-15 21:20'\n",
      " '08-01-15 6:58' '08-01-15 15:02' '08-01-15 15:10' '08-01-15 20:15'\n",
      " '08-01-15 20:26' '08-01-15 20:30' '08-01-15 20:31' '08-01-15 22:41'\n",
      " '08-01-15 22:52' '08-01-15 23:06' '09-01-15 6:58' '09-01-15 9:25'\n",
      " '09-01-15 9:43' '09-01-15 10:07' '09-01-15 17:32' '10-01-15 6:58'\n",
      " '10-01-15 14:10' '10-01-15 14:36' '10-01-15 14:44' '10-01-15 15:58'\n",
      " '10-01-15 16:57' '10-01-15 21:16' '11-01-15 6:58' '11-01-15 13:29'\n",
      " '11-01-15 13:54' '12-01-15 6:58' '12-01-15 12:01' '12-01-15 18:23'\n",
      " '12-01-15 18:26' '13-01-15 6:58' '13-01-15 15:04' '13-01-15 19:09'\n",
      " '13-01-15 19:44' '13-01-15 19:57' '13-01-15 19:58' '13-01-15 20:00'\n",
      " '14-01-15 6:58' '14-01-15 17:15' '14-01-15 19:16' '14-01-15 20:47'\n",
      " '14-01-15 23:34' '14-01-15 23:35' '14-01-15 23:36' '15-01-15 6:58'\n",
      " '15-01-15 10:36' '15-01-15 17:22' '16-01-15 6:58' '16-01-15 9:45'\n",
      " '16-01-15 9:56' '16-01-15 10:17' '16-01-15 10:25' '16-01-15 17:46'\n",
      " '16-01-15 18:07' '17-01-15 6:58' '17-01-15 18:50' '17-01-15 21:59'\n",
      " '18-01-15 6:58' '18-01-15 16:27' '18-01-15 17:04' '19-01-15 6:58'\n",
      " '19-01-15 12:44' '19-01-15 19:57' '19-01-15 20:08' '19-01-15 20:14'\n",
      " '20-01-15 6:58' '20-01-15 15:08' '20-01-15 19:49' '20-01-15 20:23'\n",
      " '21-01-15 6:58' '21-01-15 10:13' '21-01-15 14:36' '21-01-15 14:44'\n",
      " '21-01-15 15:56' '21-01-15 15:57' '21-01-15 18:04' '21-01-15 19:38'\n",
      " '21-01-15 19:59' '22-01-15 6:58' '22-01-15 18:59' '22-01-15 19:00'\n",
      " '23-01-15 6:58' '23-01-15 12:56' '23-01-15 14:32' '23-01-15 15:09'\n",
      " '23-01-15 15:22' '23-01-15 15:24' '23-01-15 15:37' '23-01-15 21:22'\n",
      " '24-01-15 6:58' '25-01-15 6:58' '25-01-15 9:16' '25-01-15 16:55'\n",
      " '26-01-15 6:58' '26-01-15 16:54' '26-01-15 17:15' '27-01-15 6:58'\n",
      " '27-01-15 9:36' '27-01-15 10:55' '28-01-15 6:58' '28-01-15 9:44'\n",
      " '28-01-15 10:02' '28-01-15 15:53' '29-01-15 6:58' '29-01-15 11:35'\n",
      " '29-01-15 11:50' '29-01-15 17:11' '29-01-15 17:19' '29-01-15 17:58'\n",
      " '29-01-15 18:05' '29-01-15 19:27' '30-01-15 6:58' '30-01-15 19:43'\n",
      " '30-01-15 19:56' '31-01-15 6:58' '31-01-15 12:48' '31-01-15 13:14'\n",
      " '01-02-15 6:58' '01-02-15 13:33' '02-02-15 6:58' '02-02-15 17:11'\n",
      " '02-02-15 17:16' '02-02-15 17:35' '02-02-15 18:17' '03-02-15 6:58'\n",
      " '03-02-15 14:45' '04-02-15 6:58' '04-02-15 12:36' '04-02-15 14:52'\n",
      " '05-02-15 6:58' '05-02-15 13:37' '05-02-15 13:38' '06-02-15 6:58'\n",
      " '06-02-15 10:36' '06-02-15 10:37' '06-02-15 18:39' '06-02-15 18:41'\n",
      " '07-02-15 6:58' '07-02-15 9:48' '07-02-15 10:03' '07-02-15 11:13'\n",
      " '07-02-15 11:37' '07-02-15 15:04' '07-02-15 16:06' '07-02-15 16:11'\n",
      " '07-02-15 16:16' '07-02-15 16:27' '07-02-15 17:33' '07-02-15 17:56'\n",
      " '07-02-15 18:23' '07-02-15 22:18' '07-02-15 22:30' '08-02-15 6:58'\n",
      " '08-02-15 20:54' '09-02-15 6:58' '09-02-15 9:08' '09-02-15 17:41'\n",
      " '09-02-15 17:54' '09-02-15 18:32' '09-02-15 22:54' '10-02-15 0:24'\n",
      " '10-02-15 6:58' '10-02-15 21:40' '11-02-15 6:58' '12-02-15 6:58'\n",
      " '12-02-15 20:15' '12-02-15 20:51' '13-02-15 6:58' '13-02-15 10:58'\n",
      " '13-02-15 21:13' '14-02-15 6:58' '14-02-15 15:40' '14-02-15 16:06'\n",
      " '15-02-15 6:58' '15-02-15 18:44' '16-02-15 6:58' '17-02-15 6:58'\n",
      " '17-02-15 15:59' '17-02-15 19:09' '18-02-15 6:58' '18-02-15 18:49'\n",
      " '18-02-15 19:56' '19-02-15 6:58' '19-02-15 18:46' '19-02-15 22:00'\n",
      " '20-02-15 6:58' '20-02-15 13:45' '21-02-15 6:58' '22-02-15 6:58'\n",
      " '23-02-15 6:58' '23-02-15 20:49' '24-02-15 6:58' '24-02-15 10:05'\n",
      " '24-02-15 13:32' '25-02-15 6:58' '25-02-15 12:56' '25-02-15 12:58'\n",
      " '25-02-15 13:15' '25-02-15 13:21' '25-02-15 13:22' '25-02-15 13:26'\n",
      " '25-02-15 13:46' '25-02-15 15:45' '26-02-15 6:58' '26-02-15 16:38'\n",
      " '26-02-15 22:34' '27-02-15 6:58' '27-02-15 13:50' '27-02-15 14:33'\n",
      " '27-02-15 14:36' '28-02-15 6:58' '28-02-15 14:09' '28-02-15 14:57'\n",
      " '28-02-15 15:09' '28-02-15 15:49' '28-02-15 16:00' '28-02-15 17:13'\n",
      " '28-02-15 17:14' '28-02-15 17:17' '28-02-15 21:25' '28-02-15 21:55'\n",
      " '28-02-15 22:39' '01-03-15 6:58' '01-03-15 12:19' '02-03-15 6:58'\n",
      " '02-03-15 9:19' '02-03-15 9:23' '02-03-15 9:30' '02-03-15 13:07'\n",
      " '02-03-15 14:53' '02-03-15 14:54' '02-03-15 17:35' '02-03-15 20:48'\n",
      " '03-03-15 6:58' '03-03-15 9:57' '03-03-15 9:59' '03-03-15 10:12'\n",
      " '03-03-15 10:27' '03-03-15 14:34' '03-03-15 18:36' '04-03-15 6:58'\n",
      " '04-03-15 7:02' '04-03-15 7:16' '04-03-15 10:30' '04-03-15 12:29'\n",
      " '05-03-15 6:58' '06-03-15 6:58' '07-03-15 6:58' '08-03-15 6:58'\n",
      " '09-03-15 6:58' '10-03-15 6:58' '11-03-15 6:58' '12-03-15 6:58'\n",
      " '13-03-15 0:39' '13-03-15 6:58']\n",
      "16-01-15 18:07    6\n",
      "30-12-14 12:05    4\n",
      "27-12-14 22:30    4\n",
      "02-02-15 17:35    4\n",
      "25-02-15 13:22    3\n",
      "                 ..\n",
      "24-11-14 6:58     1\n",
      "24-11-14 9:40     1\n",
      "24-11-14 12:24    1\n",
      "25-11-14 6:58     1\n",
      "13-03-15 6:58     1\n",
      "Name: date, Length: 738, dtype: int64\n"
     ]
    }
   ],
   "source": [
    "print(df_phone['date'].unique())\n",
    "print(df_phone['date'].value_counts())\n"
   ]
  },
  {
   "cell_type": "code",
   "execution_count": 118,
   "id": "927cfe18",
   "metadata": {},
   "outputs": [
    {
     "name": "stdout",
     "output_type": "stream",
     "text": [
      "['data' 'call' 'sms']\n",
      "call    388\n",
      "sms     282\n",
      "data    150\n",
      "Name: item, dtype: int64\n"
     ]
    }
   ],
   "source": [
    "print(df_phone['item'].unique())\n",
    "print(df_phone['item'].value_counts())"
   ]
  },
  {
   "cell_type": "code",
   "execution_count": 119,
   "id": "df17c0c0",
   "metadata": {},
   "outputs": [
    {
     "name": "stdout",
     "output_type": "stream",
     "text": [
      "['2014-11' '2014-12' '2015-01' '2015-02' '2015-03']\n",
      "2014-11    229\n",
      "2015-01    205\n",
      "2014-12    153\n",
      "2015-02    135\n",
      "2015-03     98\n",
      "Name: month, dtype: int64\n"
     ]
    }
   ],
   "source": [
    "print(df_phone['month'].unique())\n",
    "print(df_phone['month'].value_counts())"
   ]
  },
  {
   "cell_type": "code",
   "execution_count": 120,
   "id": "d2d34546",
   "metadata": {},
   "outputs": [
    {
     "name": "stdout",
     "output_type": "stream",
     "text": [
      "['data' 'Vodafone' 'Meteor' 'Tesco' 'Three' 'voicemail' 'landline']\n",
      "Vodafone     215\n",
      "Three        215\n",
      "data         150\n",
      "Meteor        87\n",
      "Tesco         84\n",
      "landline      42\n",
      "voicemail     27\n",
      "Name: network, dtype: int64\n"
     ]
    }
   ],
   "source": [
    "print(df_phone['network'].unique())\n",
    "print(df_phone['network'].value_counts())"
   ]
  },
  {
   "cell_type": "code",
   "execution_count": 121,
   "id": "39c1dba0",
   "metadata": {},
   "outputs": [
    {
     "name": "stdout",
     "output_type": "stream",
     "text": [
      "['data' 'mobile' 'voicemail' 'landline']\n",
      "mobile       601\n",
      "data         150\n",
      "landline      42\n",
      "voicemail     27\n",
      "Name: network_type, dtype: int64\n"
     ]
    }
   ],
   "source": [
    "print(df_phone['network_type'].unique())\n",
    "print(df_phone['network_type'].value_counts())"
   ]
  },
  {
   "cell_type": "code",
   "execution_count": 122,
   "id": "613a5e2b",
   "metadata": {},
   "outputs": [
    {
     "data": {
      "image/png": "[encoded data removed]",
      "text/plain": [
       "<Figure size 720x360 with 1 Axes>"
      ]
     },
     "metadata": {
      "needs_background": "light"
     },
     "output_type": "display_data"
    }
   ],
   "source": [
    "sns.histplot(df_phone)\n",
    "plt.show()"
   ]
  },
  {
   "cell_type": "markdown",
   "id": "221ea168",
   "metadata": {},
   "source": [
    "# Outliers detection"
   ]
  },
  {
   "cell_type": "markdown",
   "id": "9991f9c4",
   "metadata": {},
   "source": [
    "# Based on IQR"
   ]
  },
  {
   "cell_type": "code",
   "execution_count": 123,
   "id": "65d69877",
   "metadata": {},
   "outputs": [
    {
     "data": {
      "text/html": [
       "<div>\n",
       "<style scoped>\n",
       "    .dataframe tbody tr th:only-of-type {\n",
       "        vertical-align: middle;\n",
       "    }\n",
       "\n",
       "    .dataframe tbody tr th {\n",
       "        vertical-align: top;\n",
       "    }\n",
       "\n",
       "    .dataframe thead th {\n",
       "        text-align: right;\n",
       "    }\n",
       "</style>\n",
       "<table border=\"1\" class=\"dataframe\">\n",
       "  <thead>\n",
       "    <tr style=\"text-align: right;\">\n",
       "      <th></th>\n",
       "      <th>duration</th>\n",
       "    </tr>\n",
       "  </thead>\n",
       "  <tbody>\n",
       "    <tr>\n",
       "      <th>0</th>\n",
       "      <td>221.321120</td>\n",
       "    </tr>\n",
       "    <tr>\n",
       "      <th>1</th>\n",
       "      <td>81.610599</td>\n",
       "    </tr>\n",
       "    <tr>\n",
       "      <th>2</th>\n",
       "      <td>143.109111</td>\n",
       "    </tr>\n",
       "    <tr>\n",
       "      <th>3</th>\n",
       "      <td>111.888670</td>\n",
       "    </tr>\n",
       "    <tr>\n",
       "      <th>4</th>\n",
       "      <td>246.695171</td>\n",
       "    </tr>\n",
       "  </tbody>\n",
       "</table>\n",
       "</div>"
      ],
      "text/plain": [
       "     duration\n",
       "0  221.321120\n",
       "1   81.610599\n",
       "2  143.109111\n",
       "3  111.888670\n",
       "4  246.695171"
      ]
     },
     "execution_count": 123,
     "metadata": {},
     "output_type": "execute_result"
    }
   ],
   "source": [
    "df_n.head()"
   ]
  },
  {
   "cell_type": "code",
   "execution_count": 124,
   "id": "71bfba3d",
   "metadata": {},
   "outputs": [
    {
     "data": {
      "image/png": "[encoded data removed]",
      "text/plain": [
       "<Figure size 1080x576 with 2 Axes>"
      ]
     },
     "metadata": {
      "needs_background": "light"
     },
     "output_type": "display_data"
    }
   ],
   "source": [
    "\n",
    "\n",
    "fig, ax = plt.subplots(1, 2, figsize=(15, 8))\n",
    "\n",
    "# plot the boxplot using boxplot() from seaborn\n",
    "# z: let the variable z define the boxplot\n",
    "# x: data for which the boxplot is to be plotted\n",
    "# orient: \"h\" specifies horizontal boxplot (for vertical boxplots use \"v\")\n",
    "# whis: proportion of the IQR past the low and high quartiles to extend the plot whiskers\n",
    "# ax: specifies the axes object to draw the plot onto\n",
    "# set_xlabel(): set the x-axis label\n",
    "# fontsize: sets the font size of the x-axis label\n",
    "for variable, subplot in zip(df_n.columns, ax.flatten()):\n",
    "    z = sns.boxplot(x = df_n[variable], orient = \"h\",whis=1.5 , ax=subplot) # plot the boxplot\n",
    "    z.set_xlabel(variable, fontsize = 20)                                     # set the x-axis label"
   ]
  },
  {
   "cell_type": "code",
   "execution_count": 125,
   "id": "23a10c2a",
   "metadata": {},
   "outputs": [
    {
     "name": "stdout",
     "output_type": "stream",
     "text": [
      "duration    63.015821\n",
      "dtype: float64\n"
     ]
    }
   ],
   "source": [
    "# obtain the first quartile\n",
    "Q1 = df_n.quantile(0.25)\n",
    "\n",
    "# obtain the third quartile\n",
    "Q3 = df_n.quantile(0.75)\n",
    "\n",
    "# obtain the IQR\n",
    "IQR = Q3 - Q1\n",
    "\n",
    "# print the IQR\n",
    "print(IQR)"
   ]
  },
  {
   "cell_type": "code",
   "execution_count": 126,
   "id": "cbbafedd",
   "metadata": {},
   "outputs": [
    {
     "name": "stdout",
     "output_type": "stream",
     "text": [
      "(817, 6)\n"
     ]
    }
   ],
   "source": [
    "df_phone_iqr = df_phone[~((df_phone < (Q1 - 1.5 * IQR)) |(df_phone > (Q3 + 1.5 * IQR))).any(axis=1)]\n",
    "df_phone_iqr.head()\n",
    "print(df_phone_iqr.shape)"
   ]
  },
  {
   "cell_type": "code",
   "execution_count": 127,
   "id": "a14aaabf",
   "metadata": {},
   "outputs": [
    {
     "data": {
      "image/png": "[encoded data removed]",
      "text/plain": [
       "<Figure size 1080x288 with 2 Axes>"
      ]
     },
     "metadata": {
      "needs_background": "light"
     },
     "output_type": "display_data"
    }
   ],
   "source": [
    "# consider the variables which has outliers\n",
    "variables = ['duration']\n",
    "\n",
    "\n",
    "fig, ax = plt.subplots(1,2, figsize=(15, 4))\n",
    "\n",
    "\n",
    "for variable, subplot in zip(df_phone_iqr[variables], ax.flatten()):\n",
    "    z = sns.boxplot(x=df_phone_iqr[variable], orient = \"h\",whis=1.5 , ax=subplot)\n",
    "    z.set_xlabel(variable, fontsize = 20)"
   ]
  },
  {
   "cell_type": "code",
   "execution_count": 162,
   "id": "9b2a5c0b",
   "metadata": {},
   "outputs": [],
   "source": [
    "#outliers has been removed"
   ]
  },
  {
   "cell_type": "code",
   "execution_count": null,
   "id": "acdc02e9",
   "metadata": {},
   "outputs": [],
   "source": []
  },
  {
   "cell_type": "code",
   "execution_count": null,
   "id": "c12d666f",
   "metadata": {},
   "outputs": [],
   "source": []
  },
  {
   "cell_type": "code",
   "execution_count": null,
   "id": "1a4e5f04",
   "metadata": {},
   "outputs": [],
   "source": [
    "a) With 95% & 99% Confidence Interval \n",
    "find the range estimate of average duration calls made by all the network.\n",
    "Which of the Intervals are wider? Interpret the results."
   ]
  },
  {
   "cell_type": "code",
   "execution_count": 128,
   "id": "44613ceb",
   "metadata": {},
   "outputs": [
    {
     "data": {
      "text/plain": [
       "0.701244592666626"
      ]
     },
     "execution_count": 128,
     "metadata": {},
     "output_type": "execute_result"
    }
   ],
   "source": [
    "#checking normality\n",
    "stat,pval=shapiro(df_phone['duration'])\n",
    "pval\n"
   ]
  },
  {
   "cell_type": "code",
   "execution_count": 130,
   "id": "b5d1c213",
   "metadata": {},
   "outputs": [
    {
     "name": "stdout",
     "output_type": "stream",
     "text": [
      "(140.1977416835259, 148.41212943614502)\n",
      "(141.1797470762666, 147.4301240434043)\n"
     ]
    }
   ],
   "source": [
    "\n",
    "samp_mean=np.mean(df_phone['duration'])\n",
    "samp_std=np.std(df_phone['duration'])\n",
    "n=len(df_phone['duration'])\n",
    "\n",
    "#99% confidence interval\n",
    "interval_99 = stats.norm.interval(0.99, loc = samp_mean, scale = samp_std / np.sqrt(n))\n",
    "print(interval_99)\n",
    "\n",
    "#95% confidence interval\n",
    "interval_95 = stats.norm.interval(0.95, loc = samp_mean, scale = samp_std / np.sqrt(n))\n",
    "print(interval_95)\n",
    "\n",
    "#99% is wider than 95% confidence interval\n",
    "#while increasing in confidence level then range of estimation is also increases\n"
   ]
  },
  {
   "cell_type": "code",
   "execution_count": null,
   "id": "ca7a816d",
   "metadata": {},
   "outputs": [],
   "source": [
    "b)Perform statistical analysis to \n",
    "check whether the networks are equally distributed in the dataset\n"
   ]
  },
  {
   "cell_type": "code",
   "execution_count": 139,
   "id": "0f48608d",
   "metadata": {},
   "outputs": [
    {
     "data": {
      "text/plain": [
       "(2460.0,\n",
       " 0.0,\n",
       " 18,\n",
       " array([[ 15.91463415,   4.45609756,  63.76463415,   2.86463415],\n",
       "        [ 15.36585366,   4.30243902,  61.56585366,   2.76585366],\n",
       "        [ 39.32926829,  11.01219512, 157.57926829,   7.07926829],\n",
       "        [ 39.32926829,  11.01219512, 157.57926829,   7.07926829],\n",
       "        [ 27.43902439,   7.68292683, 109.93902439,   4.93902439],\n",
       "        [  7.68292683,   2.15121951,  30.78292683,   1.38292683],\n",
       "        [  4.93902439,   1.38292683,  19.78902439,   0.88902439]]))"
      ]
     },
     "execution_count": 139,
     "metadata": {},
     "output_type": "execute_result"
    }
   ],
   "source": [
    "#Ho: Observed = Expected (Networks are equally distributed)\n",
    "#Ha : Observed ≠ Expected (Networks are not equally distributed)\n",
    "df1=pd.crosstab(df_phone['network'],df_phone['network_type'])\n",
    "df1\n",
    "pval=stats.chi2_contingency(df1)\n",
    "pval\n",
    "#networks are not equally distributed"
   ]
  },
  {
   "cell_type": "code",
   "execution_count": null,
   "id": "5584bd0e",
   "metadata": {},
   "outputs": [],
   "source": [
    "c) Plot the distribution of duration with respect to each network in the same graph and \n",
    "Interpret the results from the graph"
   ]
  },
  {
   "cell_type": "code",
   "execution_count": null,
   "id": "b0c6b259",
   "metadata": {},
   "outputs": [],
   "source": [
    "sns.distplot(df_Phonedf_[Phone['network']=='Vodafone']['duration'])\n",
    "sns.distplot(df_Phone[df_Phone['network']=='Three']['duration'])\n",
    "sns.distplot(df_Phone[df_Phone['network']=='data']['duration'])\n",
    "sns.distplot(df_Phone[df_Phone['network']=='Meteor']['duration'])\n",
    "sns.distplot(df_Phone[df_Phone['network']=='Tesco']['duration'])\n",
    "sns.distplot(df_Phone[df_Phone['network']=='landline']['duration'])\n",
    "sns.distplot(df_Phone[df_Phone['network']=='voicemail']['duration'])"
   ]
  },
  {
   "cell_type": "code",
   "execution_count": 140,
   "id": "a7614468",
   "metadata": {},
   "outputs": [
    {
     "data": {
      "image/png": "[encoded data removed]",
      "text/plain": [
       "<Figure size 648x288 with 1 Axes>"
      ]
     },
     "metadata": {
      "needs_background": "light"
     },
     "output_type": "display_data"
    }
   ],
   "source": [
    "plt.figure(figsize=(9,4))\n",
    "sns.barplot(df_phone['duration'],df_phone['network'],hue=df_phone['network_type'])\n",
    "plt.show()"
   ]
  },
  {
   "cell_type": "code",
   "execution_count": null,
   "id": "281d7b8b",
   "metadata": {},
   "outputs": [],
   "source": [
    "d)\tPerform statistical tests to identify the relation between item and duration. Detailed \n",
    "explanation of relation between the classes is required\n"
   ]
  },
  {
   "cell_type": "code",
   "execution_count": 141,
   "id": "8e6bd8a8",
   "metadata": {},
   "outputs": [
    {
     "data": {
      "text/html": [
       "<div>\n",
       "<style scoped>\n",
       "    .dataframe tbody tr th:only-of-type {\n",
       "        vertical-align: middle;\n",
       "    }\n",
       "\n",
       "    .dataframe tbody tr th {\n",
       "        vertical-align: top;\n",
       "    }\n",
       "\n",
       "    .dataframe thead th {\n",
       "        text-align: right;\n",
       "    }\n",
       "</style>\n",
       "<table border=\"1\" class=\"dataframe\">\n",
       "  <thead>\n",
       "    <tr style=\"text-align: right;\">\n",
       "      <th></th>\n",
       "      <th>date</th>\n",
       "      <th>duration</th>\n",
       "      <th>item</th>\n",
       "      <th>month</th>\n",
       "      <th>network</th>\n",
       "      <th>network_type</th>\n",
       "    </tr>\n",
       "  </thead>\n",
       "  <tbody>\n",
       "    <tr>\n",
       "      <th>0</th>\n",
       "      <td>15-10-14 6:58</td>\n",
       "      <td>221.32112</td>\n",
       "      <td>data</td>\n",
       "      <td>2014-11</td>\n",
       "      <td>data</td>\n",
       "      <td>data</td>\n",
       "    </tr>\n",
       "  </tbody>\n",
       "</table>\n",
       "</div>"
      ],
      "text/plain": [
       "            date   duration  item    month network network_type\n",
       "0  15-10-14 6:58  221.32112  data  2014-11    data         data"
      ]
     },
     "execution_count": 141,
     "metadata": {},
     "output_type": "execute_result"
    }
   ],
   "source": [
    "df_phone.head(1)"
   ]
  },
  {
   "cell_type": "code",
   "execution_count": 150,
   "id": "cf7cac97",
   "metadata": {},
   "outputs": [
    {
     "name": "stdout",
     "output_type": "stream",
     "text": [
      "0.701244592666626\n"
     ]
    }
   ],
   "source": [
    "#checking normality\n",
    "stat,pval=shapiro(df_phone['duration'])\n",
    "print(pval)\n",
    "#levene test\n",
    "stats.levene(call,data,sms)\n",
    "call = df_phone[df_phone['item']=='call']['duration']\n",
    "call\n",
    "data = df_phone[df_phone['item']=='data']['duration']\n",
    "sms = df_phone[df_phone['item']=='sms']['duration']\n"
   ]
  },
  {
   "cell_type": "code",
   "execution_count": 143,
   "id": "fc8c4b01",
   "metadata": {},
   "outputs": [
    {
     "data": {
      "text/plain": [
       "call    388\n",
       "sms     282\n",
       "data    150\n",
       "Name: item, dtype: int64"
      ]
     },
     "execution_count": 143,
     "metadata": {},
     "output_type": "execute_result"
    }
   ],
   "source": [
    "df_phone['item'].value_counts()\n"
   ]
  },
  {
   "cell_type": "code",
   "execution_count": 144,
   "id": "f688b1d5",
   "metadata": {},
   "outputs": [
    {
     "data": {
      "text/plain": [
       "F_onewayResult(statistic=1.9313964906864995, pvalue=0.1456068656611744)"
      ]
     },
     "execution_count": 144,
     "metadata": {},
     "output_type": "execute_result"
    }
   ],
   "source": [
    "call = df_phone[df_phone['item']=='call']['duration']\n",
    "data = df_phone[df_phone['item']=='data']['duration']\n",
    "sms = df_phone[df_phone['item']=='sms']['duration']\n",
    "\n",
    "p=stats.f_oneway(call,data,sms)\n",
    "p\n"
   ]
  },
  {
   "cell_type": "code",
   "execution_count": 145,
   "id": "aadcc3e2",
   "metadata": {},
   "outputs": [
    {
     "data": {
      "text/plain": [
       "<seaborn.axisgrid.FacetGrid at 0x1af32256070>"
      ]
     },
     "execution_count": 145,
     "metadata": {},
     "output_type": "execute_result"
    },
    {
     "data": {
      "image/png": "[encoded data removed]",
      "text/plain": [
       "<Figure size 360x360 with 1 Axes>"
      ]
     },
     "metadata": {
      "needs_background": "light"
     },
     "output_type": "display_data"
    },
    {
     "data": {
      "image/png": "[encoded data removed]",
      "text/plain": [
       "<Figure size 360x360 with 1 Axes>"
      ]
     },
     "metadata": {
      "needs_background": "light"
     },
     "output_type": "display_data"
    },
    {
     "data": {
      "image/png": "[encoded data removed]",
      "text/plain": [
       "<Figure size 360x360 with 1 Axes>"
      ]
     },
     "metadata": {
      "needs_background": "light"
     },
     "output_type": "display_data"
    }
   ],
   "source": [
    "#adhoc analysis\n",
    "import statsmodels.stats.multicomp as mc\n",
    "mc=mc.MultiComparison(df_phone['duration'],groups=df_phone['item'])\n",
    "post_hoc=mc.tukeyhsd(alpha=0.05)\n",
    "post_hoc.summary()\n",
    "sns.displot(call)\n",
    "sns.displot(data)\n",
    "sns.displot(sms)"
   ]
  },
  {
   "cell_type": "code",
   "execution_count": null,
   "id": "03f39408",
   "metadata": {},
   "outputs": [],
   "source": [
    "e)\tPerform statistical tests to identify the relation between network and network_type. "
   ]
  },
  {
   "cell_type": "code",
   "execution_count": 148,
   "id": "34a7c898",
   "metadata": {},
   "outputs": [
    {
     "data": {
      "text/plain": [
       "array(['data', 'Vodafone', 'Meteor', 'Tesco', 'Three', 'voicemail',\n",
       "       'landline'], dtype=object)"
      ]
     },
     "execution_count": 148,
     "metadata": {},
     "output_type": "execute_result"
    }
   ],
   "source": [
    "df_phone['network'].unique()"
   ]
  },
  {
   "cell_type": "code",
   "execution_count": 149,
   "id": "9af26923",
   "metadata": {},
   "outputs": [
    {
     "data": {
      "text/plain": [
       "array(['data', 'mobile', 'voicemail', 'landline'], dtype=object)"
      ]
     },
     "execution_count": 149,
     "metadata": {},
     "output_type": "execute_result"
    }
   ],
   "source": [
    "df_phone['network_type'].unique()"
   ]
  },
  {
   "cell_type": "code",
   "execution_count": 146,
   "id": "007749bc",
   "metadata": {},
   "outputs": [
    {
     "data": {
      "text/plain": [
       "(2460.0,\n",
       " 0.0,\n",
       " 18,\n",
       " array([[ 15.91463415,   4.45609756,  63.76463415,   2.86463415],\n",
       "        [ 15.36585366,   4.30243902,  61.56585366,   2.76585366],\n",
       "        [ 39.32926829,  11.01219512, 157.57926829,   7.07926829],\n",
       "        [ 39.32926829,  11.01219512, 157.57926829,   7.07926829],\n",
       "        [ 27.43902439,   7.68292683, 109.93902439,   4.93902439],\n",
       "        [  7.68292683,   2.15121951,  30.78292683,   1.38292683],\n",
       "        [  4.93902439,   1.38292683,  19.78902439,   0.88902439]]))"
      ]
     },
     "execution_count": 146,
     "metadata": {},
     "output_type": "execute_result"
    }
   ],
   "source": [
    "#Ho: Observed = Expected (Network and Network_type are not related)\n",
    "#Ha : Observed ≠ Expected (Network and Network_type are related)\n",
    "\n",
    "df_phone.head(2)\n",
    "\n",
    "\n",
    "df1=pd.crosstab(df_phone['network'],df_phone['network_type'])\n",
    "df1\n",
    "pval=stats.chi2_contingency(df1)\n",
    "pval\n",
    "#networks and network_type are related\n"
   ]
  }
 ],
 "metadata": {
  "kernelspec": {
   "display_name": "Python 3 (ipykernel)",
   "language": "python",
   "name": "python3"
  },
  "language_info": {
   "codemirror_mode": {
    "name": "ipython",
    "version": 3
   },
   "file_extension": ".py",
   "mimetype": "text/x-python",
   "name": "python",
   "nbconvert_exporter": "python",
   "pygments_lexer": "ipython3",
   "version": "3.10.9"
  }
 },
 "nbformat": 4,
 "nbformat_minor": 5
}
